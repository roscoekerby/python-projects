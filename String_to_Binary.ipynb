{
  "nbformat": 4,
  "nbformat_minor": 0,
  "metadata": {
    "colab": {
      "provenance": [],
      "authorship_tag": "ABX9TyOw4tixXFaEzXByadQe1qVk",
      "include_colab_link": true
    },
    "kernelspec": {
      "name": "python3",
      "display_name": "Python 3"
    },
    "language_info": {
      "name": "python"
    }
  },
  "cells": [
    {
      "cell_type": "markdown",
      "metadata": {
        "id": "view-in-github",
        "colab_type": "text"
      },
      "source": [
        "<a href=\"https://colab.research.google.com/github/roscoekerby/python-projects/blob/main/String_to_Binary.ipynb\" target=\"_parent\"><img src=\"https://colab.research.google.com/assets/colab-badge.svg\" alt=\"Open In Colab\"/></a>"
      ]
    },
    {
      "cell_type": "code",
      "execution_count": null,
      "metadata": {
        "colab": {
          "base_uri": "https://localhost:8080/"
        },
        "id": "-0ejuREbd3yx",
        "outputId": "a8422e03-1003-4af4-9605-9732bcd67e71"
      },
      "outputs": [
        {
          "output_type": "stream",
          "name": "stdout",
          "text": [
            "Enter a string: RJK\n",
            "Binary representation of the string: 01010010 01001010 01001011\n"
          ]
        }
      ],
      "source": [
        "def string_to_binary(string):\n",
        "    binary_string = ' '.join(format(ord(char), '08b') for char in string)\n",
        "    return binary_string\n",
        "\n",
        "def main():\n",
        "    input_string = input(\"Enter a string: \")\n",
        "    binary_representation = string_to_binary(input_string)\n",
        "    print(\"Binary representation of the string:\", binary_representation)\n",
        "\n",
        "if __name__ == \"__main__\":\n",
        "    main()\n"
      ]
    },
    {
      "cell_type": "markdown",
      "source": [
        "roscoe: 01110010 01101111 01110011 01100011 01101111 01100101\n",
        "Roscoe: 01010010 01101111 01110011 01100011 01101111 01100101"
      ],
      "metadata": {
        "id": "KTZ3VqozeA-_"
      }
    },
    {
      "cell_type": "code",
      "source": [
        "Roscoe = 01010010 01101111 01110011 01100011 01101111 01100101\n"
      ],
      "metadata": {
        "id": "2cq76wv0d_K3"
      },
      "execution_count": null,
      "outputs": []
    }
  ]
}