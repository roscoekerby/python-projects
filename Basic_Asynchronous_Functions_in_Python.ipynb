{
  "nbformat": 4,
  "nbformat_minor": 0,
  "metadata": {
    "colab": {
      "provenance": [],
      "authorship_tag": "ABX9TyP++T7DxvrTwthaSR7G+PXA",
      "include_colab_link": true
    },
    "kernelspec": {
      "name": "python3",
      "display_name": "Python 3"
    },
    "language_info": {
      "name": "python"
    }
  },
  "cells": [
    {
      "cell_type": "markdown",
      "metadata": {
        "id": "view-in-github",
        "colab_type": "text"
      },
      "source": [
        "<a href=\"https://colab.research.google.com/github/roscoekerby/python-projects/blob/main/Basic_Asynchronous_Functions_in_Python.ipynb\" target=\"_parent\"><img src=\"https://colab.research.google.com/assets/colab-badge.svg\" alt=\"Open In Colab\"/></a>"
      ]
    },
    {
      "cell_type": "code",
      "execution_count": 5,
      "metadata": {
        "colab": {
          "base_uri": "https://localhost:8080/"
        },
        "id": "BHRsGuoPXKO8",
        "outputId": "4bc7f2bf-ab76-4321-ff6d-126577278ac2"
      },
      "outputs": [
        {
          "output_type": "stream",
          "name": "stdout",
          "text": [
            "Yielding 0 from async_gen1\n",
            "0\n",
            "Yielding 3 from async_gen2\n",
            "3\n",
            "Yielding 4 from async_gen2\n",
            "4\n",
            "Yielding 5 from async_gen2\n",
            "5\n",
            "Yielding 1 from async_gen1\n",
            "1\n"
          ]
        }
      ],
      "source": [
        "import asyncio\n",
        "\n",
        "# Define the first asynchronous generator function\n",
        "async def async_gen1():\n",
        "    for i in range(3):\n",
        "        print(f\"Yielding {i} from async_gen1\")  # Indicate which value is being yielded from async_gen1\n",
        "        yield i\n",
        "\n",
        "# Define the second asynchronous generator function\n",
        "async def async_gen2():\n",
        "    for i in range(3, 6):\n",
        "        print(f\"Yielding {i} from async_gen2\")  # Indicate which value is being yielded from async_gen2\n",
        "        yield i\n",
        "\n",
        "# Define the main asynchronous function\n",
        "async def main():\n",
        "    # Get an asynchronous iterator from the first asynchronous generator\n",
        "    aiterator1 = aiter(async_gen1())\n",
        "    # Get an asynchronous iterator from the second asynchronous generator\n",
        "    aiterator2 = aiter(async_gen2())\n",
        "\n",
        "    # Retrieve the next item from the first asynchronous iterator\n",
        "    print(await anext(aiterator1))  # Output: 0\n",
        "    # Retrieve the next items from the second asynchronous iterator\n",
        "    print(await anext(aiterator2))  # Output: 3\n",
        "    print(await anext(aiterator2))  # Output: 4\n",
        "    print(await anext(aiterator2))  # Output: 5\n",
        "    print(await anext(aiterator1))  # Output: 1\n",
        "\n",
        "# Check if running in a Jupyter notebook environment\n",
        "try:\n",
        "    import nest_asyncio\n",
        "    nest_asyncio.apply()  # Apply nest_asyncio to allow nested event loops\n",
        "    asyncio.run(main())  # Run the main function using asyncio's event loop\n",
        "except RuntimeError:\n",
        "    # If already in an event loop, run the event loop manually\n",
        "    loop = asyncio.get_event_loop()\n",
        "    loop.run_until_complete(main())  # Run the main function using the existing event loop"
      ]
    }
  ]
}