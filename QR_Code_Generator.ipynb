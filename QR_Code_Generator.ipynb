{
  "nbformat": 4,
  "nbformat_minor": 0,
  "metadata": {
    "colab": {
      "provenance": [],
      "authorship_tag": "ABX9TyOEz20l61jfKd6OjSKDIZ2T",
      "include_colab_link": true
    },
    "kernelspec": {
      "name": "python3",
      "display_name": "Python 3"
    },
    "language_info": {
      "name": "python"
    }
  },
  "cells": [
    {
      "cell_type": "markdown",
      "metadata": {
        "id": "view-in-github",
        "colab_type": "text"
      },
      "source": [
        "<a href=\"https://colab.research.google.com/github/roscoekerby/python-projects/blob/main/QR_Code_Generator.ipynb\" target=\"_parent\"><img src=\"https://colab.research.google.com/assets/colab-badge.svg\" alt=\"Open In Colab\"/></a>"
      ]
    },
    {
      "cell_type": "markdown",
      "source": [
        "# Import\n",
        "\n"
      ],
      "metadata": {
        "id": "CkYmr4AzFRTV"
      }
    },
    {
      "cell_type": "code",
      "source": [
        "!pip install qrcode[pil]"
      ],
      "metadata": {
        "colab": {
          "base_uri": "https://localhost:8080/"
        },
        "id": "y1nyk2hf-yB6",
        "outputId": "5fd92b88-e59b-48e3-da32-0bd42e2470dc"
      },
      "execution_count": 2,
      "outputs": [
        {
          "output_type": "stream",
          "name": "stdout",
          "text": [
            "Collecting qrcode[pil]\n",
            "  Downloading qrcode-7.4.2-py3-none-any.whl.metadata (17 kB)\n",
            "Requirement already satisfied: typing-extensions in /usr/local/lib/python3.10/dist-packages (from qrcode[pil]) (4.12.2)\n",
            "Collecting pypng (from qrcode[pil])\n",
            "  Downloading pypng-0.20220715.0-py3-none-any.whl.metadata (13 kB)\n",
            "Requirement already satisfied: pillow>=9.1.0 in /usr/local/lib/python3.10/dist-packages (from qrcode[pil]) (10.4.0)\n",
            "Downloading pypng-0.20220715.0-py3-none-any.whl (58 kB)\n",
            "\u001b[2K   \u001b[90m━━━━━━━━━━━━━━━━━━━━━━━━━━━━━━━━━━━━━━━━\u001b[0m \u001b[32m58.1/58.1 kB\u001b[0m \u001b[31m3.4 MB/s\u001b[0m eta \u001b[36m0:00:00\u001b[0m\n",
            "\u001b[?25hDownloading qrcode-7.4.2-py3-none-any.whl (46 kB)\n",
            "\u001b[2K   \u001b[90m━━━━━━━━━━━━━━━━━━━━━━━━━━━━━━━━━━━━━━━━\u001b[0m \u001b[32m46.2/46.2 kB\u001b[0m \u001b[31m2.7 MB/s\u001b[0m eta \u001b[36m0:00:00\u001b[0m\n",
            "\u001b[?25hInstalling collected packages: pypng, qrcode\n",
            "Successfully installed pypng-0.20220715.0 qrcode-7.4.2\n"
          ]
        }
      ]
    },
    {
      "cell_type": "markdown",
      "source": [
        "# Example Output Given Before Code\n",
        "\n",
        "![Screenshot 2024-09-30 103825.png](data:image/png;base64,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)"
      ],
      "metadata": {
        "id": "qztkMWltFOOW"
      }
    },
    {
      "cell_type": "code",
      "execution_count": 14,
      "metadata": {
        "colab": {
          "base_uri": "https://localhost:8080/"
        },
        "id": "MdD9wlko-R6B",
        "outputId": "74d20222-0b35-4a5a-a02c-b11489489fd6"
      },
      "outputs": [
        {
          "output_type": "stream",
          "name": "stdout",
          "text": [
            "Enter the website URL: https://linktr.ee/themusclegrowthpodcast\n",
            "QR code saved as qr_code.png\n"
          ]
        }
      ],
      "source": [
        "import qrcode\n",
        "from PIL import Image\n",
        "\n",
        "def create_qr_code(url, output_file=\"qr_code.png\"):\n",
        "    # Create QR code instance\n",
        "    qr = qrcode.QRCode(\n",
        "        version=None,\n",
        "        error_correction=qrcode.constants.ERROR_CORRECT_L,\n",
        "        box_size=10,\n",
        "        border=4,\n",
        "    )\n",
        "\n",
        "    # Add data to the QR code\n",
        "    qr.add_data(url)\n",
        "    qr.make(fit=True)\n",
        "\n",
        "    # Create an image from the QR code\n",
        "    qr_image = qr.make_image(fill_color=\"black\", back_color=\"white\")\n",
        "\n",
        "    # Save the image\n",
        "    qr_image.save(output_file)\n",
        "    print(f\"QR code saved as {output_file}\")\n",
        "\n",
        "# Get website input from user\n",
        "website = input(\"Enter the website URL: \")\n",
        "\n",
        "# Generate QR code\n",
        "create_qr_code(website)"
      ]
    },
    {
      "cell_type": "markdown",
      "source": [
        "# QR with scan me text"
      ],
      "metadata": {
        "id": "_J1uAuXR_K5_"
      }
    },
    {
      "cell_type": "markdown",
      "source": [
        "![Screenshot 2024-09-30 104131.png](data:image/png;base64,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)"
      ],
      "metadata": {
        "id": "ta1oN_DjF8J2"
      }
    },
    {
      "cell_type": "code",
      "source": [
        "import qrcode\n",
        "from PIL import Image, ImageDraw, ImageFont\n",
        "\n",
        "def create_qr_code_with_text(url, output_file=\"qr_code_with_text.png\"):\n",
        "    # Create QR code instance\n",
        "    qr = qrcode.QRCode(\n",
        "        version=None,\n",
        "        error_correction=qrcode.constants.ERROR_CORRECT_H,\n",
        "        box_size=10,\n",
        "        border=4,\n",
        "    )\n",
        "\n",
        "    # Add data to the QR code\n",
        "    qr.add_data(url)\n",
        "    qr.make(fit=True)\n",
        "\n",
        "    # Create an image from the QR code\n",
        "    qr_image = qr.make_image(fill_color=\"black\", back_color=\"white\").convert('RGB')\n",
        "\n",
        "    # Create a drawing object\n",
        "    draw = ImageDraw.Draw(qr_image)\n",
        "\n",
        "    # Get image size\n",
        "    img_size = qr_image.size[0]\n",
        "\n",
        "    # Define safe area (avoid QR code corner markers and central timing patterns)\n",
        "    safe_area_start = img_size // 4\n",
        "    safe_area_end = 3 * img_size // 4\n",
        "\n",
        "    # Calculate square size (reduced to preserve functionality)\n",
        "    square_size = img_size // 3\n",
        "\n",
        "    # Position the square in the center\n",
        "    square_pos = ((img_size - square_size) // 2, (img_size - square_size) // 2)\n",
        "\n",
        "    # Draw white square\n",
        "    draw.rectangle([square_pos, (square_pos[0] + square_size, square_pos[1] + square_size)], fill=\"white\")\n",
        "\n",
        "    # Use bold fonts (adjust paths as needed)\n",
        "    try:\n",
        "        small_font = ImageFont.truetype(\"ariblk.ttf\", 24)  # For \"SCAN\"\n",
        "        large_font = ImageFont.truetype(\"ariblk.ttf\", 48)  # For \"ME\"\n",
        "    except IOError:\n",
        "        small_font = ImageFont.load_default().font_variant(size=24)\n",
        "        large_font = ImageFont.load_default().font_variant(size=48)\n",
        "\n",
        "    # Draw \"SCAN\"\n",
        "    scan_text = \"SCAN\"\n",
        "    scan_bbox = draw.textbbox((0, 0), scan_text, font=small_font)\n",
        "    scan_width = scan_bbox[2] - scan_bbox[0]\n",
        "    scan_height = scan_bbox[3] - scan_bbox[1]\n",
        "    scan_pos = ((img_size - scan_width) // 2, square_pos[1] + (square_size // 4) - (scan_height // 2))\n",
        "    draw.text(scan_pos, scan_text, font=small_font, fill=\"black\")\n",
        "\n",
        "    # Draw \"ME\"\n",
        "    me_text = \"ME\"\n",
        "    me_bbox = draw.textbbox((0, 0), me_text, font=large_font)\n",
        "    me_width = me_bbox[2] - me_bbox[0]\n",
        "    me_height = me_bbox[3] - me_bbox[1]\n",
        "    me_pos = ((img_size - me_width) // 2, square_pos[1] + (3 * square_size // 4) - (me_height // 2))\n",
        "    draw.text(me_pos, me_text, font=large_font, fill=\"black\")\n",
        "\n",
        "    # Save the image\n",
        "    qr_image.save(output_file)\n",
        "    print(f\"QR code with text saved as {output_file}\")\n",
        "\n",
        "# Get website input from user\n",
        "website = input(\"Enter the website URL: \")\n",
        "\n",
        "# Generate QR code with text\n",
        "create_qr_code_with_text(website)"
      ],
      "metadata": {
        "colab": {
          "base_uri": "https://localhost:8080/"
        },
        "id": "3pxxehSEDvZf",
        "outputId": "75159709-7bdb-4868-f367-75d0349033ea"
      },
      "execution_count": 18,
      "outputs": [
        {
          "output_type": "stream",
          "name": "stdout",
          "text": [
            "Enter the website URL: https://linktr.ee/themusclegrowthpodcast\n",
            "QR code with text saved as qr_code_with_text.png\n"
          ]
        }
      ]
    },
    {
      "cell_type": "markdown",
      "source": [
        "![Screenshot 2024-09-30 103558.png](data:image/png;base64,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)"
      ],
      "metadata": {
        "id": "IO9-PIZyEq-w"
      }
    },
    {
      "cell_type": "code",
      "source": [
        "import qrcode\n",
        "from PIL import Image, ImageDraw, ImageFont\n",
        "\n",
        "def create_qr_code_with_text(url, output_file=\"qr_code_with_text.png\"):\n",
        "    # Create QR code instance\n",
        "    qr = qrcode.QRCode(\n",
        "        version=None,\n",
        "        error_correction=qrcode.constants.ERROR_CORRECT_H,\n",
        "        box_size=10,\n",
        "        border=4,\n",
        "    )\n",
        "\n",
        "    # Add data to the QR code\n",
        "    qr.add_data(url)\n",
        "    qr.make(fit=True)\n",
        "\n",
        "    # Create an image from the QR code\n",
        "    qr_image = qr.make_image(fill_color=\"black\", back_color=\"white\").convert('RGB')\n",
        "\n",
        "    # Create a drawing object\n",
        "    draw = ImageDraw.Draw(qr_image)\n",
        "\n",
        "    # Get image size\n",
        "    img_size = qr_image.size[0]\n",
        "\n",
        "    # Calculate square size (reduced to preserve functionality)\n",
        "    square_size = img_size // 3\n",
        "\n",
        "    # Position the square in the center\n",
        "    square_pos = ((img_size - square_size) // 2, (img_size - square_size) // 2)\n",
        "\n",
        "    # Draw white square\n",
        "    draw.rectangle([square_pos, (square_pos[0] + square_size, square_pos[1] + square_size)], fill=\"white\")\n",
        "\n",
        "    # Use bold fonts (adjust paths as needed)\n",
        "    try:\n",
        "        small_font = ImageFont.truetype(\"ariblk.ttf\", 24)  # For \"SCAN\"\n",
        "        large_font = ImageFont.truetype(\"ariblk.ttf\", 48)  # For \"ME\"\n",
        "    except IOError:\n",
        "        small_font = ImageFont.load_default().font_variant(size=24)\n",
        "        large_font = ImageFont.load_default().font_variant(size=48)\n",
        "\n",
        "    # Draw \"SCAN\"\n",
        "    scan_text = \"SCAN\"\n",
        "    scan_bbox = draw.textbbox((0, 0), scan_text, font=small_font)\n",
        "    scan_width = scan_bbox[2] - scan_bbox[0]\n",
        "    scan_height = scan_bbox[3] - scan_bbox[1]\n",
        "    scan_pos = (square_pos[0] + (square_size - scan_width) // 2,\n",
        "                square_pos[1] + (square_size // 2) - scan_height - 5)\n",
        "    draw.text(scan_pos, scan_text, font=small_font, fill=\"black\")\n",
        "\n",
        "    # Draw \"ME\"\n",
        "    me_text = \"ME\"\n",
        "    me_bbox = draw.textbbox((0, 0), me_text, font=large_font)\n",
        "    me_width = me_bbox[2] - me_bbox[0]\n",
        "    me_height = me_bbox[3] - me_bbox[1]\n",
        "    me_pos = (square_pos[0] + (square_size - me_width) // 2,\n",
        "              square_pos[1] + (square_size // 2) + 5)\n",
        "    draw.text(me_pos, me_text, font=large_font, fill=\"black\")\n",
        "\n",
        "    # Save the image\n",
        "    qr_image.save(output_file)\n",
        "    print(f\"QR code with text saved as {output_file}\")\n",
        "\n",
        "# Get website input from user\n",
        "website = input(\"Enter the website URL: \")\n",
        "\n",
        "# Generate QR code with text\n",
        "create_qr_code_with_text(website)"
      ],
      "metadata": {
        "colab": {
          "base_uri": "https://localhost:8080/"
        },
        "id": "vLitrqO0DvuU",
        "outputId": "ee03f3c9-d48f-4017-a8a0-2305a3358999"
      },
      "execution_count": 12,
      "outputs": [
        {
          "output_type": "stream",
          "name": "stdout",
          "text": [
            "Enter the website URL: https://linktr.ee/themusclegrowthpodcast\n",
            "QR code with text saved as qr_code_with_text.png\n"
          ]
        }
      ]
    },
    {
      "cell_type": "markdown",
      "source": [
        "![Screenshot 2024-09-30 103702.png](data:image/png;base64,iVBORw0KGgoAAAANSUhEUgAAAZIAAAGSCAYAAADJgkf6AAAAAXNSR0IArs4c6QAAAARnQU1BAACxjwv8YQUAAAAJcEhZcwAAEnQAABJ0Ad5mH3gAADFhSURBVHhe7d0LuFTVef/xhSIXMRwvKASRSzFKqHDEWrQVPGgTpBgFGloR2oCECBrDpdVGo3JRW2il4dJElIhgW3zIEywgaNW0glVTNMq9iikERBRFwkEEERHnP7/tOv6P49qzF7P2GWYO38/zrId5z5k9l82eec++vOttkMkyAAAU6Dj7LwAABSGRAACCkEgAAEFIJACAICQSAEAQEgkAIAiJBAAQhEQCAAhCIgEABCGRAACCkEgAAEFIJACAICQSAEAQEgkAIAiJBAAQhEQCAAhCIgEABCGRAACCpNZqd/Xq1ebZZ5+10bFryJAh5vTTT7dRadi8ebNZunSpjepe8+bNzfDhw20Ub/78+ea9996zkVu3bt1MVVWVjcJoHWhd5NOmTRszcOBAG8WbNWuWOXjwoI0Kl+a66ty5s+ndu7eN4k2fPt3eiqfH0ePls337drNw4UIbhbn44oujkc/evXvNQw89ZKNjl8+6KjolkjRMmzZNCemYH9mEatdI6Vi0aJHztdbVaNeunX3m/CorK53L1x5jxoyx9w7Xr18/53PUHtmkZe+dX0VFhXP5Ix1prquhQ4fae+fnWjZ3zJ0719473vLly53LFjImTJhgHzXeli1bnMsea8NnXRUbh7YAAEFIJACAICQSAEAQEgkAIAiJBAAQhEQCAAhCIgEABEmtIFFFTuPGjbNRvIqKCnurvBw+fNjs27fPRvFUmHn++efbyE2FbAcOHLBRvJNPPtneCvP4449HhZJJ3n//fXsrXpMmTUzjxo1t5Na2bVuzbt06G8Xr2bOnWb9+vY3cbrjhBjN58mQbxduzZ4+9Fe/66683Tz/9tI3cevToYZYtW2ajeO3atfNaX0l815W2qbVr19rIbejQoWbevHk2iuezXU2dOjWxMHPlypVm0KBBNorns54mTJhgJk6caCO3rVu3mg4dOtgoXrNmzUzDhg1tVF5UdJn0leyzropOiSQNPgWJKuIqVyo0dL2n3OFTkOhbvFlsPkV2eu2lyPVac4cKM8tVmgWJPvRYrueoPdIs3kyzIFGFkuVKBaqu91R7UJAIAKh3SCQAgCAkEgBAEBIJACAIiQQAEIREAgAIQiIBAAQhkQAAghS1sl1V7T4VyKpkfvHFF21U97773e+aq666ykZua9asidq+JvGpbFe716SKbunfv7+9FS/NdTV48GDTqFEjG7l16dLFdOzY0UZhtL1s2bLFRm76f9H/T5LFixfbW/GeeeYZs23bNhu5nXfeeeaee+6xUTzNFLB//34buanq26fy28fy5csTK8Q3bdpknn/+eRvF81lXq1atSlxXLVq0iGYCSKKZFQ4dOmQjt06dOkUjH9/Kdq2rXr162chN28LMmTNtVPd8t6v27dubN954w0ZuVLZ7Vrb7tERNc/hUa6dZ2Z6mNNdVdXW1fdTiqO+tdotdgaz2uK7XkTvKVZqV7b7rKq3hu11R2Q4AOCaRSAAAQUgkAIAgJBIAQBASCQAgCIkEABCERAIACFKSBYkqxFuyZImN6t60adPM2LFjbeSWZkGiL5/CMRUkvvTSSzYKU11dnUp73w8//DCxpa089thjZvfu3TZy69y5s+nevbuNwqRZkKj1lFQg6FM45ruuLrvsssQ21b5FdsOGDbO3wpRzQaJaEl933XU2qntVVVVmxYoVNopHQSIFidFIsyDR9fh1OdIqSPQtHPNZVz7ble9Is9VuWgWJaa4rX67HL2SUc6tdChLTxaEtAEAQEgkAIAiJBAAQhEQCAAhCIgEABCGRAACCkEgAAEFIJACAICSSMrdo0SIVlaYyVFXboEGDvEMzGBSTZhxwvdbc4WPAgAHO91R7JFVEH4lJkyY5n6P28KnUTptr/eWOoUOH2nvHe/bZZ53vKXeoIt31HLVHyVVq44iQSAAAQUgkAIAgJBIAQBASCQAgCIkEABCERAIACEIiAQAEIZEAAIKUZKvdpUuXms2bN9uo7qkNZlIb3TRb7aqQS4WESWbMmGFvxdPjqDVxGnzax1566aWJ66Fhw4amTZs2Nor39ttvm48//thGbvq/USFhkrQKJfW6Bw4caKN4PuvqiiuuMH369LGRm1oN33333TaKN3jwYHP66afbKIzPulL731dffdVGYdTe+NNPP7WRm9ZT0rpKs9Wu3ptPi+O0+G5XtNpNsdVuKUqz1W45t4/1GWoX6qOystK5fO0xZswYe+/SUuz2sWmOYivFVrulila7AIBjEokEABCERAIACEIiAQAEIZEAAIKQSAAAQUgkAIAgRS1IPOmkk8xzzz1no/Ly+uuvm0GDBtkonk9Bos+6ksrKSnsr3ujRo80FF1xgIzcVgvoUcvkU2bVu3TqxMK5FixZm6tSpNoo3fvz4qFgtn969e0fFeEmS1rls2bIl8f1pGz377LNtFM9nXfkUjvkW2Z1zzjmmadOmNnJTceObb75po3g+H3n9v+jx8inVdfWzn/3MXHjhhTYqL3379jU7duywkZvPuio6JZI0pFlkV84jzYJEH/369XMuW3voPj58Csf02pP4Fo6V4rqqqqqy986v2EV2Putq7ty5zmVzh4+hQ4c6l609SnVd1ffhs66KjUNbAIAgJBIAQBASCQAgCIkEABCERAIACEIiAQAEIZEAAIKQSAAAQVKrbH/vvffMW2+9ZaNj17nnnptYgVzsyvZVq1aZmTNn2ijefffdZ0488UQbuT3yyCOJLUrVPve1116zUTyfam1tV2rJmyStdbVx40YzZcoUG8XzWVeLFy+ORj6+swD4bFeqRE+aKUCGDRtmb8UbMWKE6dGjh43cfCvb169fbw4fPmwjt1atWkUjH21XabX/LWc+66roorJEFFWxW+3qPq5lc0d1dbVdIp5a37qWLYfhs67UptW1bO7wWVeqQHYtW3v4tiVOk+t15A5VyQO+OLQFAAhCIgEABCGRAACCkEgAAEFIJACAICQSAEAQEgkAIEhqBYmlSsV/pWbv3r2JbUxlxowZ9la8RYsWmf79+9vITUVxAwYMsFG86urqqC1qPmPHjk18XV/5ylfM8OHDbVQcaa2rFStWmMsuu8xG8XzW1ZNPPhmNfBo2bGjatGljo3hDhgxJbHHsq0GDBvZWvLlz5yYWLm7fvt0sXLjQRvFuuOEG07hxYxsVTp+bhx56yEZhOnfuHLVxLhbfdaXPTfPmzW1URqJqknpMb7HUhor6fLiWzR2lWJBYqkV2xS5I9JFmq11frsfPHT4FiaW6rnyGWgkXk++60nssRxzaAgAEIZEAAIKQSAAAQUgkAIAgJBIAQBASCQAgCIkEABCERAIACFK2iUTV2qrQTRo+pk2bpsLMVIZPy1dfrsfPHfPmzXO+79rDp6rdl2YKcL2O2kPV4a7XkTvWrFljHzWens+1bO5wvY7c4bOuJk6c6Fw2d7Rv3965/JGODh062Hcazuf9abjeT+7w+T/0XVdJMwD40jp3PX4ho1evXs73lDvghz0SAEAQEgkAIAiJBAAQhEQCAAhCIgEABCGRAACCkEgAAEFIJACAICXZanfy5MnmxRdftJHbjh07zEsvvWSjeGqvmqRLly6mY8eONnLbsmWLGTdunI3iXX311ebUU0+1kdurr77q9dp9XH755aZt27Y2ctO6nDJlio3i9e3b15xwwgk2KtxJJ51kBg4caKN4amlbUVFhI7fNmzeb9evX2yheUgtd0X2WLFliI7fTTjvN9OjRw0bxBg8ebBo1amSjwu3cudOMHDnSRvFUQJe0rrZt22ZWr15to3j9+vWzt+KtWrXKvPnmmzZy811XaTnjjDPM7NmzbRTvjjvuMBs2bLCRW5rrykerVq1Mnz59bBRP7X9PPPFEG5URJZJSk/3P+1ILykJHWtTq1PX4ucOnJeq0adOcyxYy0my1m9Y4Gq12faS5XZVi+9j6Pny3q6qqKufyR3PoNdVnHNoCAAQhkQAAgpBIAABBSCQAgCAkEgBAEBIJACAIiQQAEKSoBYmHDh0yjz/+uI3iPfPMM1HBUBqGDRtmb8VLsyBR3RaTut6p65/PY/lQwWVSMZ4KElXkWSy+hWPF5lPo6mv+/PmmWbNmNiqcChKvv/56G5UWrat33nnHRoXzKXTduHGjef31123k1q5dO7N161YbxfMpSEyTT/FmVVVV1HWy3oqqSYpERVx6yqThU2Tny/X4uUMFgsVU7IJEoBBpFXD6FG9OmDDBuWztUaqFrkOHDnW+3tqDgkQAAPIgkQAAgpBIAABBSCQAgCAkEgBAEBIJACAIiQQAEIREAgAIklpl+6xZs8xtt91mIzc91d69e20UT60mkyphr7zyyqi6OEmDBg3srXhNmjQxjRs3tlGY5557LqqUz8e3sr26utreiqfq6jTa4wK59u/fH81GEapr166Jn/uPPvrIHDx40EZu+iw3b97cRmHUKvm+++6zURjNnvHwww/byO3444+PWlAnWbduXWLr7JKkRJKGNKu1fYaqbn24lq3LkWarXaA+qKiocG7fR3OoGj0tPpXtvkOtl8sRh7YAAEFIJACAICQSAEAQEgkAIAiJBAAQhEQCAAhCIgEABEmtINGnyE6Ffz4tX+fMmZPYKrNfv35m8eLFNoqn15VE7Wr/+7//20ZurVu3NrfccouN4r399tvm448/tpGbiqpOPfVUG8XzaSv63e9+N7EAEiiEPofr16+3UeFUrJz0mfBxyimnmPHjx9sozL59+8yuXbtsFM/n+8OnIFGtvG+66SYbxRs+fHhqRZdFFVWTpMCnyE6FST58Wnz6FiT6GDNmjPM5ao/Kykp77/x0P9fytYeez4dr2dxBq13UlbRa7aY10my1O3fuXOdz5A4ftNqlIBEAEIhEAgAIQiIBAAQhkQAAgpBIAABBSCQAgCAkEgBAkKIWJFZUVJg9e/bYKF7//v3NkiVLbOT2zW9+08yePdtG8dq3b29vxRs7dqyZMWOGjdy+/vWvmyeeeMJG8UaMGGE2bdpkI7eBAwd6FSf16tXL3oqnddC7d28bAenx+Rz6OOuss8xxx4X/zdqqVSuzYMECG4VZuHChV4Hxli1b7K14N998s3n00Udt5FZVVWVWrFhho3ooqiZJQbELEn2HD5+CRN9Bh0TUF2l9Dqurq+0jhlH3QNfjl8OgIBEAgDxIJACAICQSAEAQEgkAIAiJBAAQhEQCAAhCIgEABCGRAACCpFbZ/t5775m33nrLRm7HH3+8V1vYtCpqxeft6XXr9afh3HPPNU2bNrWRm88sAJLSfw1QEFV1v//++zYqnD7z+uznc//990cjH7Xrfe2112wU72c/+5m58MILbVT31P536dKlNnJr1qyZOfvss20UZtSoUdEoKUokpabYle3FRmU78EUTJkxwfgYKGcuXL7ePWhw+rXbTHFpXpYZDWwCAICQSAEAQEgkAIAiJBAAQhEQCAAhCIgEABCGRAACCpFaQ6OPgwYNm1qxZNoo3Z84cs2HDBhuFmTZtmr0VT20wu3XrZiM3FSzOnz/fRvGGDBliTj/9dBu5Pfvss2bRokU2iufTJviqq64yHTt2tBFQniZOnGgmTZpkozDf//73E4v/Onfu7NWiWsXDSR555BHz61//2kZhrrvuOtO8eXMbufXp0ycaJSWqJikStdzUU5baUIFgErXQdS2bO3xa7fpyPX7uyCYke2+gfKVZkOgzVETow7VsXQ61Ey5HHNoCAAQhkQAAgpBIAABBSCQAgCAkEgBAEBIJACAIiQQlJZPJmOrq6qje6Bvf+IY566yzzJlnnml69uxppk6danbs2GHv+UVabv/+/WbevHnmz/7sz8zXvvY106pVK9OpUyczcOBA8/Of/9zs2bPH3juemjmpFujkk082f/RHf2SWL19uf/Nluo9GmzZtzD/+4z/an37Rb37zm+iaf91v/fr19qdA/UIiQclQMti2bZu5+uqrzQ9+8IPoS/2SSy4x3bt3j27fcsst5i//8i+jLnm6b20bN240F198sRk+fLh54YUXooKzb37zm+bUU081//mf/2kGDRoUFXtt3rzZLvFlekx1y3z66afN4cOHoy9+Dd12UfdADS3zL//yL+bNN9+0v/n/Pv30U7Nv377ofnGPA5S97IenaHwLEn2K7HQf17KFDJ+CRF+VlZXO56g9xowZY++N2j788MNMNhFkmjVrlrnxxhsz2T0M+5tMZuvWrZlrrrkmc8IJJ2RGjx6d2blzp/1NJpNNIpkzzjgjk/2rP/OjH/0ok93zsL/JZLJf5Jm1a9dmsskp06hRo8x3vvOdTPaLP/p5Li139913Zzp06JAZMWJE5oILLsj81V/9VSabfOw9vkj/lw0bNsz07t07eu477rgj88knn9jffiab9DLZZBjdN81i1WJIq1OpPvfFVFVV5XwdhQwfPh0S9ZrqM/ZIUDLUk/uxxx4zLVq0MN/+9rfNiSeeaH9jTLt27aK9jfPPP9/88pe/NLt37472IA4cOBAditJf/NnkY+655x5TUVFhlzKmQYMGpmvXruauu+4yf/iHf2gWLFhg/vd///dLewd6LE2D8x//8R8mm0jMsGHDoj2hl19+2fzf//1f9HuXxo0bm+wXiTnllFPMsmXLoscGjjUkEpQMfVl/9NFH5tChQ1Gi0GGh2rJ7CNE8SkocNfMRLV261LzyyivRl/8Pf/jDKHG4ZPcUTa9evaLzGZrHTfO+1Zbdk4gShg6R/cEf/EF0fkTPp3Myun92b8ne88tatmwZJTEd2vrXf/3X6D0AxxISCUrGCSecEJ1UVxJ5+OGHzUsvvRR9kWuvQ0lGeyr66//22283X/3qV6OkUTP5Zf/+/RMnu9OyOmGv8y56rtp0ol57Q5pwU+dWjjvuuOg8i07a/+pXvzLbt2+39/wy7TnpvI4m2XzmmWeivRjgWEIiQcnQYaKbb745OnylL28dXtKhKv2Vry/oTZs2femv/TVr1kT/ai8iiZLCgAEDokNWjRo1sj/9bE9o586d0Ul5zRp70UUXRT8/99xzze///u9HieG3v/1t7MlyJbTWrVtHJ/OVcB599FGzd+9e+1ug/iORoGQ0bNgw2iP553/+Z3P99ddHh6s05b72QEaMGGHGjx9vfvGLX0Rf+jXnLGou6dU5ikLpsJYS19tvvx1dpqtDZbrsd926dVGS2LVrl1m1apX54IMP7BJf1qxZM/Mnf/In5rzzzjMrVqww//M//xN7XgWob0gkKCk65HThhRdGJ8fvv/9+8+Mf/zjqU6EvaX3Z6zyIfq5aE2nSpEn0b74v+SQ6X6K9Hp3sVwLReRiNm266yTz55JPRORtdEqxEE0cJp23bttHlyTppv2TJkijhAccCEglKkhKKrtRS86FRo0ZFyUT/Hn/88eaBBx6I6kF0Ml6Hq8TnaikdntIeztatW79wmOr11183q1evjs6dqFZFe0M142//9m/NH//xH0cn3HVoTUkljs6V6DFqChmff/559kpwTCCRoGT8+7//u5k5c2Z0WKg2nfhWdfu1114bncPQnoGSgQ5JaU9FHn/88eikfBwlAJ3A1x7N2rVro2Vr6JyGvvC1NzF27NgvjDFjxkTnVXRORUlIlxnno70SnXjXa3nqqafMO++8Y38D1F+ptdrVZZhqkZuPPsxPPPGEjeLpShxdhZPP4sWLow94GtSOV18a+aiyety4cTaKpy8RVVPn8+qrr0ZXJCXRe0wyefJk8+KLL9rITSePb7vtNhuVLp0D0TZ0+eWXm9mzZ5umTZva33xG5yoGDx4c1ZFoG7nyyiujqnKdPNcXt67IGjlypL33F2l9jx49OrrEV1dnqQpeezc6ea8T6kosShSu9sYrV66MDnPpOfS82gvSoSwNnRvRSXo9Xg3t+ah1rPZIdIhMiUrJUXs9upCgXOgzqEN0oXQYUueeQulQofYSk2hKGk2Pk48u3tC5uCQ+X486f6YZGfLRFYc9evSwUT2kRJIGVYfr4dIYqlpPovu4li1kFLvVru+68uFTfaz7lINf/epXmYqKikzLli0zU6ZM+UKFevYLP5NNMpnsF30m+0WeWbduXVSdfvjw4Uw26UQV5vr5gw8+GFXI19Dv9X+iqviTTjop84Mf/CDz7rvvfl7Znt2TiSres1+amewfOtHPcu3bty/zF3/xF5lsYsv8/Oc/zxw8eDD6udatqvCzSSKKa3z88ceZRx55JJPde8pcdtllmXbt2kX39dk2SkmpVbarDa3r8XPH8uXL7RLx5s6d61w2d8APh7ZQMvTX+t/93d9FJ721d6E9zr/5m78xt956q8kmAjNhwoTovMiPfvQj83u/93vRHoEOe+mQl+6vv1jvuOMOc9VVV0WXEetqLx2u+s53vhMdZtLkjTfccIM57bTTomVFe0B6jL59+0ZXjbno3If2er7yla9Ee9SaOysfnd+59NJLo6G9Ge01AfUZiQQlQ1dgqWhQh1N0WEXnF3ReI7uXEc2iqy/7f/u3fzN//ud//oXpU7J7GtHlwUoWSj5KKLqfru769a9/HR2K+ulPf2r+/u//3pxzzjnRIS1RsaOmRNHz6rHjKOkoKZxxxhnR/XXJcfaPMPtbNxVM1hxiqX0+BqiPSCQoGTXnHHSVlE666695XSmlodvTp0+PfqckUrNHUUM/01xa//RP/xTN/qsrsXRll2pCNDOvko++1GuSiGhqk5oT9/riz0fTpejyYz2uriYTHftXAaIuV86lvRwlQxVM6n4aXbp0sb8F6hcSCUqKEoS+7HWiXVOe6CSthm7rZ/pdbhIR/Uxf3rqPDkFp4saa5ZScdLgpdzndX/fRfXU7Hz2vHlf3r3kNNa8t7pCYnrP2e6idxID6hEQCAAhCIgEABCGRAACCpFaQuHDhQvOTn/zERm66ekUnQpPcfffdicU7Kva68847bRRGRWO6NDQfXUGkq4CSaBqPpGIorStdRZTE579Gl7tqXeSjdalZdEudto+496J1qmLBmrm1CqHiQ02l4pqXS49bu6jQRSfOayaJTIMuYVYlfKkqZkGiLnjQyEfrXhdcJNF9kgo/NYfalClTbBRPE3AmUQ+btGYw0DYYso0fNUokxaLCJD1lOQ610PXh02rXdxxr8m0f2UQfta0NsWrVqkzXrl2dj6+iwSRptnDVmDx5sn3k0lTMgsQJEyY4l609fP6PjgafVru+Q0WX5YhDWygL2hvQNDXZbdb+5Mhpb5gZeYH0kUhQFt544w2T3SPJ2/I2Hy2n+bbUfTEtqgtR1XyhQ71LgHrhsx2T4uDQ1pGNY03u9tGkSZNo7q2aWPNd/eY3v7H3PjKvvPJKpnv37p8/1llnnZU57rjjPo8LObT113/915nf/e53BY/ac4KVIg5t+eHQFoe2UMI0Y6qmNKkpFtR0J5q3KrvdRvGR0N5IzZxXNSfW4woJfan4UTM9Fzq0PFAfkEhQsvRFq77pNdOXvPnmm9EU/Ed6eEvTv2sKd3UulK5du5rsHomzQh7AkSORoGTpi16NrDp16hTFujxYfT3Ul+RIaMJHDc0qLGqGpYkeAaSDRIKSpkSixlM1dOVVzZ6FL+2N1NQo6HDWZZdd9oXZgwGEIZGgpGlCxc6dO0dTuIuu3lJRYb62urUdPHjQrFu3LpqlV3SllAobmUARSE9qiWTWrFmfz3IaN2qm306iXhLVdurtuKH7pEV9KlzPUXvcd999zveUO3Q/1/KFDNfjFzKGDBli32n50eEtJRL1FBE1tlK1cVLv9Bpqraup32t6gvTq1cuccsop0W3kN3/+fOd2eaRDfwykQe1sXdt37kia6eFIuB4/dzzyyCP23vEuueQS57rJHaU800Fen128FY5Wu5+NNNupuh6/kFEurXazH6QvvO5zzjkns2zZsszu3bszw4YN+/znugzUt8p9wYIFmY4dO0bLZZNStN2oFe69996bady48RceM0nu5b+33367/Q1C+Vz+6zt8Wu36cj1+IUPbTn3GoS2UPO1BqPhPLXJFh7c2bNjw+cnzOPq9DoPp/qLH6NChQ9QnBEB6SCQoC+pQqEkOazz99NNm//79NnLTeRElkprDWj179vz8XAuA9JBIUBZU+9GxY8fPixP/67/+KzpPkt2rjuJc+rnm5lIikcaNG0dFiDV7NWnQjK+aA6yQAdQnJBKUBVWCa2pw/Su//e1voyRx+PDhKM6lw1o60a5kIl//+tejS4kbNWoUxWmYM2eO6datW0EDqE9IJCgb2qNo06aNjYxZtmyZOXTokI2+6N133zWvvPLK5+dRcpcFkB4SCcqGDm/pPEnNHFm//OUvzb59+6LbtemwlubV0txc0qxZs+gcy+mnnx7FadH0LWr+VMgA6hMSCcqGrt668MILo2v3RYe31q5dG92uTXshmzZtiqZFEU2xoi99nSdJ05/+6Z9GXTMLGUB9klqr3ZUrV0btK/NRq9N/+Id/sFG8RYsWJf7VpvaWCxYssFF50WGWPn362Ciez6SC11xzzedzUcXR7wcNGmSj0qVWqrWLBTXz749//GNz5ZVX2p98NkXK9ddfH03eKGqTnNvieceOHVGRac3Pv/e970VtmTVRY42pU6dGbYpV+S4qlk1q9apixmeffdZGxtx+++1l0cK4rmh9zZs3z0bxbr311sT2sSoy9Wlr62PYsGHR7AX56IKHxYsX2yjepEmT7K14/fr1S2zt62vs2LGf/6FUVpRIiiW34Cxu+BQkpmnMmDHO11F7pNmPRM/nw7Vs7ij2uqpLcQWJte3bty8qsGzYsGF0H/UVye3roaLQLl26RL9XP5P77rsvKkKsjYLEcCr8q70+4ob+X0vN3Llzna+1kKHHSuK7ruhHAhSBznf06NHDNG/ePIpVK6IZgWvUXK1Vc1hLh7R0xRZFiEDdIZGg7HzjG9/4/BBY9o8h84tf/CK6LXv37o0Of9UcslI1u5IJgLpDIkHZ0SSOSg41V2/pWHdN4tDEd8uXL49ua69FiYRqdqBukUhQdlRUqL2Smp4iqhnRXoimQtGVXDUn4nXCVYmEKeOBukUiQVnq27dvdL5EdHhLV/qpBa+mTqmZW0sTNKr/CIC6RSJBWdKhLXVOrJl7a+nSpdH5EU3mKDqspQJGDmsBdY9EgrKl6/dr5s7auXNn1OxM3RBF06FcdNFF0e26oiZbmusrZAD1QWoFifprcPfu3TZy030qKyttFO+BBx4wvXv3tlGYpMIkueuuu8xDDz1kIzdN+Pfggw/aKN6IESOiqup8hg8fbsaPH2+jeD6vffbs2amtq6PNpyCxNk3IqEp3bXcq3lQnPj2Gbl9xxRXm4Ycfjt0jSaMgUZ0nr7vuOhsdOV0sUFVVZaPyowJC9b9PotkHai7XDqH1ldZ8aQsXLjQ333yzjcKo4DKpwFgFkCo2TKLujmU5J5wSSRrS7JCY5kjL0eiQeKzxKUjMlU2iX1hGI/ullcl+uO093NIoSAwdKpYsZ75FdmkNn/+jo2Ho0KHO11t70CERKGEDBw60t/6/li1bmksvvdRGAOpaaoe2pk+fbsaNG2ej0pHS24t2TX36SGT3SFKbd+dYo46HOlxU48wzz4wOHenwVRxVtt900002+szXvvY188Mf/tC0aNHC/uTLVHsyf/78z6eh1yEwHSbMR4fC1OI3LbrqTK+hXPke2kqLz+HHo0Fze+kwaj46hJnWXGIlSYkkDRza+mxwaAvHCg5tfYZDWxzaAgAEIpEAAIKQSAAAQUgkAIAgJBIAQJDULv997733zFtvvWUjtw8++CC16/tVZTxt2jQbxfO5FPfee+9NvAyzbdu2UQV8Es0B1bRpUxvVPV1yXTNtehxdoumzroDakrYttXBWVXeSnj17mn379tnIbeTIkWbUqFE2ctN0OGohkESzS7z88ss2crv66qu9Ps8+fC7/1aXemh0jyRNPPGFat25tozISXbtVJL6tdn2G2q2mJc1Wu8Wm9eB6vbVHmusKx46kbcv3klZV8LuWrz0mTJhg7x3OZwYCXbKbFp/Lf30HrXYBAMckEgkAIAiJBAAQhEQCAAhCIgEABCGRAACCkEgAAEFSK0j0kdtKNYT6daunRBrUAnPGjBk2cjvrrLNSK2BKk/pj7Nq1y0ZuF1xwgRk9erSNAD/9+/c3S5YssdGXqfjWpyDxxhtvNAcOHLCRmz7Per40TJkyxbz++us2chs6dKiZN2+ejeL53EctuF944QUbuanZWlI7XlEL6Hx9dEpWVE1SJOVckFiqY9GiRfZdAOlKKkgs5+FbkOhatpBBPxIAAPIgkQAAgpBIAABBSCQAgCAkEgBAEBIJACAIiQQAEIREAgAIkloimT59umnQoEHe4VvVvmjRIhVK5h2+Ve2u15E72rdv73yOQkZlZaV95uIYMGCA8z3VHmlVDOPYos+YaxuvGUktntPWrl075+soZKhVt+uzkjvghz0SAEAQEgkAIAiJBAAQhEQCAAhCIgEABCGRAACCkEgAAEFIJACAIKm12n311VfNSy+9ZKMwl19+uWnbtq2N3FatWmVmzpxpo3gqPErSvXt307lzZxu5bdu2zYwfP95G8R577DFTXV1tozBz5861t+JpHaxevdpGbmm2JcaxQ9uWPmdx3nnnHfPUU0/ZKN5Pf/pTc+KJJ9rITdtnvra+ooLErVu32ijMpk2bzPPPP2+juteqVSuvVrvlqqg929OkDU9V3UnSentr1qwx3bp1s1Fx+Lz2pL7aoo34oosuslG8+fPnm2bNmtnIbc6cOWbp0qU2cjvjjDPM7NmzbRRv3LhxZsuWLTaqe7fddpvXevAxZMgQs3//fhsV7misK58/KpREJk+eHCWLUPrD6uSTT7aR28SJE82kSZNs5JZmIkHKlEjKkXqV6+UnjbRk/+p3Pn5dDh9p9tVWT/0kPv3tsx94e+/8KisrncvX1Uizv31FRYXzOY50HI115UM9zV3LFjJ8tqsJEyY4l609fNcVio9zJACAICQSAEAQEgkAIAiJBAAQhEQCAAhCIgEABCnJOpINGzaYXbt22chNxUR33nmnjeL5dHE7++yzTZs2bWzkpgKmESNG2Kg4VqxYYW/F86kjOe2008x5551no3i33nqradKkiY3cnnzySbNy5UobualuZcGCBTaKp/Wp9ZrP9u3bzebNm20URp030+oW+a1vfcvs27fPRoVTfcXYsWNtFE/rKmk9tGzZ0nTq1MlG8Xy2qylTpkT/12nw2a70mpJel++68qFt1Gdd+di4cWNivY1e+/nnn2+jeii6CLjEpFkb4TOmTZtmn7n8+Kwr3ceHT21EsdeVns/1OgoZadaRpGXLli3O11rIUO1HKfLZrlRHkqRU15VPzU1VVZW9d/3EoS0AQBASCQAgCIkEABCERAIACEIiAQAEIZEAAIKQSAAAQUgkAIAgqVW2z5o1K+pAlwZ1jOvdu7eNwpxyyin2Vrxp06YlVsyuX7/e9OzZ00alQ136PvnkExu5+bbaff/991WgaiO3pk2bmsaNG9vITW2Ju3btaqN4zz33nOnSpYuN3KZPnx51B0yDT2W7ZkxQ1XqSN954w1RUVNjITdXhGvloRoW0Wr4uXLjQ3HzzzTaKt2fPHnurOFTVrW0rH21TSdXvn376qfnggw9sFOaEE05IbP8rPutq2LBh5uGHH7aR2/HHH29OOukkG4XRTAEaJUWJJA2lWoHsevzc4VOtfTQ6JKY1fCvb0+Jbgax1mqTY29Xy5cudy+aOUuz6N3fuXOdz5I5iS6ub5NEYPtLsJukzfGYBKDYObQEAgpBIAABBSCQAgCAkEgBAEBIJACAIiQQAEIREAgAIklpBotqvptWac9CgQam1wZw4caK9Fa9Pnz7m4osvtpGbWmnef//9NgqjdfXUU0/ZKMw111yTuK70e63TJCqe++ijj2zk5rOutm7dajp06GCjeCNHjoxanqZh0qRJ9lY8n3VVbL7tY7XtJbVz9eXzmVAB65o1a2zk1r59+6gYL4lPQWJVVZXp1auXjeqe3ltSi2qZMGGCvVU6tJ6Kua68RNUkKKpSLd5Mq9Vumi1Rx4wZYx81P9eyhQzflqhptY/1VVlZ6XyO2qNU28cWe1358C3e9Bl6rGMdh7YAAEFIJACAICQSAEAQEgkAIAiJBAAQhEQCAAhCIgEABEmtIHHv3r1m9+7dNjp2tW7d2jRq1MhGbr5d/9q1a2dvxfPpJvnhhx+anTt32iieuhomdaC78847zfDhw23kpsI5nwLIt99+2xw6dMhGbtddd50ZP368jeL5FGhpHRw4cMBGbhdddJFZsGCBjeL5rKsxY8Z4FRv66Nu3r3nttdds5DZ06FAzb948G4VRp0V1XMxHhak+68qnIFGFf0mFkuoEun37dhvFU5FrUrdFrSdtW2m49957zcCBA23kpteTVvFtSYqqSVKQZpFdOY80u/6lRUWLrsevq+Hb9c+nyM53+FCnSNey9WWkWZCYprQKEn0LXdXlMkmaBYk+w7d4s1xxaAsAEIREAgAIQiIBAAQhkQAAgpBIAABBSCQAgCAkEgBAEBIJACBIapXtPtXazZo1M8uWLbNRedm0aZP53ve+Z6N4q1evNueff76N3Hwr29V+NMk999xjevToYSO3Xbt2mQ0bNtgo3re+9S2zf/9+G7l9//vfT6zi3bNnT/Qek4waNSq1al+f9rFaB7/73e9s5FZZWen12n3WlSrNfVrR+hgxYoTZvHmzjdxatmzp1Up4xYoV9lZxpFXZrjbQalOdRJ8/PWc+vpXty5cvt7fiqUV1UutsfZaLvd6LKipLTIFPtbYqXMuVKtZd7yl3pFnZ7jPKudWuz7ry5Xr8QkY5t9r1HcVWzq12faTZlrhccWgLABCERAIACEIiAQAEIZEAAIKQSAAAQUgkAIAgJBIAQJCiFiRWVFRExWpJnnnmGbNt2zYb1b3u3bubzp0728htzZo1plu3bjaKl2ZBoo9FixaZ/v372yiMT+HYtddem9jaVwWQt9xyi43i+awrX2kV/mkd+LymG2+8MbFtr0+RnS+1G076TKho9oUXXrBRvJQ+8t58tqt+/fqlth37eP75582cOXNsFG/u3Ln2VrwHH3wwcb1TkOgpzYLEYrdE9SmyoyAx/ZFmQWJa1KbV9VoLGeVcZJemYm9XpTgoSAQAIA8SCQAgCIkEABCERAIACEIiAQAEIZEAAIKQSAAAQUgkAIAgJJKjYOzYsVF1cdLwMWDAANOgQYNUxtatW52vo/YYM2aMfeZwminA9TpqD60rH65lCxmqRHe970KGz+tq3759dL80qLrf9Tpyh+t11OXw2a58xpYtW+w7Dac2yK7nyB0+VP3uWrb2qNdV7VkkEgBAEBIJACAIiQQAEIREAgAIQiIBAAQhkQAAgpBIAABBSCQAgCAl2WpXLTeXLFlio7o3bdq0xMK3NFvt+lIxVxr0ukePHm2jeIMHDzaNGjWykZvW04wZM2xU91QAqW0rybx58+yteDNnzoz+f/JJsyWqihsnTZpkI7dmzZqZgQMH2ijeXXfdZdq2bWujMGltV+eee6659dZbbRRPbW0/+eQTG7npM5/UaleFjR06dLBRGBUk+mwzPuvqkksuMWeffbaNwkydOtW0aNHCRmVEiSQNtNr9bKTZPtb1+IUMrc+0ZL/Ync9RV0PPlxaf7SrNlqhqtet6jkJGKW5XvuvKp9WuT1viLVu2OJctZGQTiX3U/FzL1uXQeyxHHNoCAAQhkQAAgpBIAABBSCQAgCAkEgBAEBIJACAIiQQAEKQkCxLvuOOOqIipWG666abEorByLkhUwdQ999xjozA/+clPzKOPPmojt8aNG5uLL77YRvFefvlls3//fhu5ffvb347+f5L06tXL3ornU+iaZkGiCt6Sit4++ugj8+KLL9oons929c4775iNGzfaKJ4KJZPocd59910buVVWVnoVi06ZMiV6n/mou6NGPnp/gwYNslE8fVbff/99G7ldccUVXsWUaa0rX+oCmWbXzKKJqklSkGZBYikq54LEYo927drZd5Bf9ovIuXwhw0exCxJ9+BbZ+WxXc+fOdS6bO3yoYM+1bCGjurraPmpx6P/Q9ToKGT7SXFcUJAIAjkkkEgBAEBIJACAIiQQAEIREAgAIQiIBAAQhkQAAgpBIAABBilrZrkrttNqFFtvHH39sduzYYaN4xa5sf+CBB0zv3r1t5Pb000+bkSNH2qjutWvXLmqLmkTrae3atTYKo+dMsnPnTnPgwAEbuakqv1WrVjaKt27dOtO8eXMbFc63fexXv/rVxDbIffr08arW9qmc3rVrl9m3b5+N3FauXGmuvfZaG8Wrrq42J598so3c9P3hUyXvQxXwBw8etFEYn+1K6ypphgZfZ555pmnYsKGN3NTuOqk1eNFFZYkp8KlsPxZGsSvbFy1aZO8dT/dxLVtX42hUthd7pFWtfTTax6Zl+fLlzteRO3zWVZptiev78GlLXGwc2gIABCGRAACCkEgAAEFIJACAICQSAEAQEgkAIAiJBAAQJLWCRBUnPfnkkzY6do0aNcqroM2HT5tPtR7t1KmTjdzUCnTBggU2qnsqPvMpmLr//vuj4rFypMK/Jk2a2Khwaj2dViGeCjzVTrhYVEyZ1EpYfNaV2hun1eK4vlNbaZ/W0sWUWiIBABybOLQFAAhCIgEABCGRAACCkEgAAEFIJACAICQSAEAQEgkAIAiJBAAQhEQCAAhCIgEABCGRAACCkEgAAEFIJACAICQSAEAQEgkAIAiJBAAQhEQCAAhCIgEABCGRAACCkEgAAEFIJACAICQSAEAQEgkAIAiJBAAQhEQCAAhCIgEABCGRAACCkEgAAEFIJACAICQSAEAQEgkAIAiJBAAQhEQCAAhCIgEABDDm/wFP1uh5AviPCQAAAABJRU5ErkJggg==)"
      ],
      "metadata": {
        "id": "VGInh_4EE7hz"
      }
    },
    {
      "cell_type": "code",
      "source": [
        "import qrcode\n",
        "from PIL import Image, ImageDraw, ImageFont\n",
        "\n",
        "def create_qr_code_with_text(url, output_file=\"qr_code_with_text.png\"):\n",
        "    # Create QR code instance\n",
        "    qr = qrcode.QRCode(\n",
        "        version=None,\n",
        "        error_correction=qrcode.constants.ERROR_CORRECT_H,\n",
        "        box_size=10,\n",
        "        border=4,\n",
        "    )\n",
        "\n",
        "    # Add data to the QR code\n",
        "    qr.add_data(url)\n",
        "    qr.make(fit=True)\n",
        "\n",
        "    # Create an image from the QR code\n",
        "    qr_image = qr.make_image(fill_color=\"black\", back_color=\"white\").convert('RGB')\n",
        "\n",
        "    # Create a drawing object\n",
        "    draw = ImageDraw.Draw(qr_image)\n",
        "\n",
        "    # Get image size\n",
        "    img_size = qr_image.size[0]\n",
        "\n",
        "    # Calculate square size (reduced to preserve functionality)\n",
        "    square_size = img_size // 3\n",
        "\n",
        "    # Position the square in the center\n",
        "    square_pos = ((img_size - square_size) // 2, (img_size - square_size) // 2)\n",
        "\n",
        "    # Draw white square\n",
        "    draw.rectangle([square_pos, (square_pos[0] + square_size, square_pos[1] + square_size)], fill=\"white\")\n",
        "\n",
        "    # Use bold fonts (adjust paths as needed)\n",
        "    try:\n",
        "        small_font = ImageFont.truetype(\"ariblk.ttf\", 24)  # For \"SCAN\"\n",
        "        large_font = ImageFont.truetype(\"ariblk.ttf\", 48)  # For \"ME\"\n",
        "    except IOError:\n",
        "        small_font = ImageFont.load_default().font_variant(size=24)\n",
        "        large_font = ImageFont.load_default().font_variant(size=48)\n",
        "\n",
        "    # Calculate total height of \"SCAN ME\"\n",
        "    scan_bbox = draw.textbbox((0, 0), \"SCAN\", font=small_font)\n",
        "    me_bbox = draw.textbbox((0, 0), \"ME\", font=large_font)\n",
        "    total_height = (scan_bbox[3] - scan_bbox[1]) + (me_bbox[3] - me_bbox[1])\n",
        "\n",
        "    # Calculate vertical starting position to center both texts\n",
        "    start_y = square_pos[1] + (square_size - total_height) // 2\n",
        "\n",
        "    # Draw \"SCAN\"\n",
        "    scan_text = \"SCAN\"\n",
        "    scan_bbox = draw.textbbox((0, 0), scan_text, font=small_font)\n",
        "    scan_width = scan_bbox[2] - scan_bbox[0]\n",
        "    scan_height = scan_bbox[3] - scan_bbox[1]\n",
        "    scan_pos = (square_pos[0] + (square_size - scan_width) // 2, start_y)\n",
        "    draw.text(scan_pos, scan_text, font=small_font, fill=\"black\")\n",
        "\n",
        "    # Draw \"ME\"\n",
        "    me_text = \"ME\"\n",
        "    me_bbox = draw.textbbox((0, 0), me_text, font=large_font)\n",
        "    me_width = me_bbox[2] - me_bbox[0]\n",
        "    me_height = me_bbox[3] - me_bbox[1]\n",
        "    me_pos = (square_pos[0] + (square_size - me_width) // 2, start_y + scan_height)\n",
        "    draw.text(me_pos, me_text, font=large_font, fill=\"black\")\n",
        "\n",
        "    # Save the image\n",
        "    qr_image.save(output_file)\n",
        "    print(f\"QR code with text saved as {output_file}\")\n",
        "\n",
        "# Get website input from user\n",
        "website = input(\"Enter the website URL: \")\n",
        "\n",
        "# Generate QR code with text\n",
        "create_qr_code_with_text(website)"
      ],
      "metadata": {
        "colab": {
          "base_uri": "https://localhost:8080/"
        },
        "id": "zJF-uzD8EWh3",
        "outputId": "d17d813c-dc20-4b28-b641-7fe8b7d71c02"
      },
      "execution_count": 19,
      "outputs": [
        {
          "output_type": "stream",
          "name": "stdout",
          "text": [
            "Enter the website URL: https://linktr.ee/themusclegrowthpodcast\n",
            "QR code with text saved as qr_code_with_text.png\n"
          ]
        }
      ]
    }
  ]
}