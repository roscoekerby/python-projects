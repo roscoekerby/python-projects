{
  "nbformat": 4,
  "nbformat_minor": 0,
  "metadata": {
    "colab": {
      "provenance": [],
      "authorship_tag": "ABX9TyPEIK+BOjmHjxFaS2Yx7/nn",
      "include_colab_link": true
    },
    "kernelspec": {
      "name": "python3",
      "display_name": "Python 3"
    },
    "language_info": {
      "name": "python"
    }
  },
  "cells": [
    {
      "cell_type": "markdown",
      "metadata": {
        "id": "view-in-github",
        "colab_type": "text"
      },
      "source": [
        "<a href=\"https://colab.research.google.com/github/roscoekerby/python-projects/blob/main/Dynamic_Podcasts_Episodes_Scraper.ipynb\" target=\"_parent\"><img src=\"https://colab.research.google.com/assets/colab-badge.svg\" alt=\"Open In Colab\"/></a>"
      ]
    },
    {
      "cell_type": "markdown",
      "source": [
        "# Install Imports"
      ],
      "metadata": {
        "id": "XIK1BO22jk-g"
      }
    },
    {
      "cell_type": "code",
      "source": [
        "!pip install selenium\n",
        "!pip install chromedriver-autoinstaller"
      ],
      "metadata": {
        "colab": {
          "base_uri": "https://localhost:8080/"
        },
        "id": "tRR939SXWH3Z",
        "outputId": "4d8489f5-2295-41b7-f166-6c173922c283"
      },
      "execution_count": 17,
      "outputs": [
        {
          "output_type": "stream",
          "name": "stdout",
          "text": [
            "Requirement already satisfied: selenium in /usr/local/lib/python3.10/dist-packages (4.24.0)\n",
            "Requirement already satisfied: urllib3<3,>=1.26 in /usr/local/lib/python3.10/dist-packages (from urllib3[socks]<3,>=1.26->selenium) (2.0.7)\n",
            "Requirement already satisfied: trio~=0.17 in /usr/local/lib/python3.10/dist-packages (from selenium) (0.26.2)\n",
            "Requirement already satisfied: trio-websocket~=0.9 in /usr/local/lib/python3.10/dist-packages (from selenium) (0.11.1)\n",
            "Requirement already satisfied: certifi>=2021.10.8 in /usr/local/lib/python3.10/dist-packages (from selenium) (2024.7.4)\n",
            "Requirement already satisfied: typing_extensions~=4.9 in /usr/local/lib/python3.10/dist-packages (from selenium) (4.12.2)\n",
            "Requirement already satisfied: websocket-client~=1.8 in /usr/local/lib/python3.10/dist-packages (from selenium) (1.8.0)\n",
            "Requirement already satisfied: attrs>=23.2.0 in /usr/local/lib/python3.10/dist-packages (from trio~=0.17->selenium) (24.2.0)\n",
            "Requirement already satisfied: sortedcontainers in /usr/local/lib/python3.10/dist-packages (from trio~=0.17->selenium) (2.4.0)\n",
            "Requirement already satisfied: idna in /usr/local/lib/python3.10/dist-packages (from trio~=0.17->selenium) (3.8)\n",
            "Requirement already satisfied: outcome in /usr/local/lib/python3.10/dist-packages (from trio~=0.17->selenium) (1.3.0.post0)\n",
            "Requirement already satisfied: sniffio>=1.3.0 in /usr/local/lib/python3.10/dist-packages (from trio~=0.17->selenium) (1.3.1)\n",
            "Requirement already satisfied: exceptiongroup in /usr/local/lib/python3.10/dist-packages (from trio~=0.17->selenium) (1.2.2)\n",
            "Requirement already satisfied: wsproto>=0.14 in /usr/local/lib/python3.10/dist-packages (from trio-websocket~=0.9->selenium) (1.2.0)\n",
            "Requirement already satisfied: pysocks!=1.5.7,<2.0,>=1.5.6 in /usr/local/lib/python3.10/dist-packages (from urllib3[socks]<3,>=1.26->selenium) (1.7.1)\n",
            "Requirement already satisfied: h11<1,>=0.9.0 in /usr/local/lib/python3.10/dist-packages (from wsproto>=0.14->trio-websocket~=0.9->selenium) (0.14.0)\n",
            "Requirement already satisfied: chromedriver-autoinstaller in /usr/local/lib/python3.10/dist-packages (0.6.4)\n",
            "Requirement already satisfied: packaging>=23.1 in /usr/local/lib/python3.10/dist-packages (from chromedriver-autoinstaller) (24.1)\n"
          ]
        }
      ]
    },
    {
      "cell_type": "markdown",
      "source": [
        "# **Scrape Apple**"
      ],
      "metadata": {
        "id": "8Bl436OIjp2V"
      }
    },
    {
      "cell_type": "code",
      "source": [
        "from selenium import webdriver\n",
        "from selenium.webdriver.common.by import By\n",
        "from selenium.webdriver.support.ui import WebDriverWait\n",
        "from selenium.webdriver.support import expected_conditions as EC\n",
        "from selenium.common.exceptions import NoSuchElementException, TimeoutException\n",
        "import time\n",
        "\n",
        "episode_titles = []\n",
        "episode_descriptions = []\n",
        "episode_apple_urls = []\n",
        "\n",
        "def init_driver():\n",
        "    options = webdriver.ChromeOptions()\n",
        "    options.add_argument('--ignore-certificate-errors')\n",
        "    options.add_argument('--incognito')\n",
        "    options.add_argument('--headless')\n",
        "    options.add_argument('--no-sandbox')\n",
        "    options.add_argument('--disable-dev-shm-usage')\n",
        "    options.binary_location = '/usr/bin/google-chrome'\n",
        "    driver = webdriver.Chrome(options=options)\n",
        "    return driver\n",
        "\n",
        "def scroll_to_bottom(driver):\n",
        "    SCROLL_PAUSE_TIME = 2\n",
        "    last_height = driver.execute_script(\"return document.body.scrollHeight\")\n",
        "\n",
        "    while True:\n",
        "        driver.execute_script(\"window.scrollTo(0, document.body.scrollHeight);\")\n",
        "        time.sleep(SCROLL_PAUSE_TIME)\n",
        "        new_height = driver.execute_script(\"return document.body.scrollHeight\")\n",
        "        if new_height == last_height:\n",
        "            break\n",
        "        last_height = new_height\n",
        "\n",
        "def scrape_episodes(url):\n",
        "    driver = init_driver()\n",
        "    driver.get(url)\n",
        "\n",
        "    try:\n",
        "        # Scroll to load all episodes\n",
        "        scroll_to_bottom(driver)\n",
        "\n",
        "        # Find all episode elements\n",
        "        episode_elements = driver.find_elements(By.CSS_SELECTOR, \"li.svelte-8rlk6b\")\n",
        "\n",
        "        for episode in episode_elements:\n",
        "            try:\n",
        "                title = episode.find_element(By.CSS_SELECTOR, \"span.episode-details__title-text\").text\n",
        "                link = episode.find_element(By.CSS_SELECTOR, \"a.link-action\").get_attribute('href')\n",
        "                description = episode.find_element(By.CSS_SELECTOR, \"p.episode-details__summary\").text\n",
        "\n",
        "                episode_titles.append(title)\n",
        "                episode_apple_urls.append(link)\n",
        "                episode_descriptions.append(description)\n",
        "\n",
        "                print(\"Title:\", title)\n",
        "                print(\"URL:\", link)\n",
        "                print(\"Description:\", description)\n",
        "                print(\"----------\")\n",
        "\n",
        "            except NoSuchElementException:\n",
        "                print(\"Failed to extract information for an episode\")\n",
        "\n",
        "    except Exception as e:\n",
        "        print(f\"An error occurred: {e}\")\n",
        "\n",
        "    finally:\n",
        "        driver.quit()\n",
        "\n",
        "    return episode_titles, episode_apple_urls, episode_descriptions\n",
        "\n",
        "# Example usage\n",
        "if __name__ == \"__main__\":\n",
        "    url = \"https://podcasts.apple.com/za/podcast/the-muscle-growth-podcast/id1717906577/episodes\"\n",
        "    titles, urls, descriptions = scrape_episodes(url)\n",
        "    print(f\"Total episodes scraped: {len(titles)}\")"
      ],
      "metadata": {
        "colab": {
          "base_uri": "https://localhost:8080/"
        },
        "id": "FQMVLp9Juraq",
        "outputId": "85e68568-6e01-4d57-e52c-0cfc9ec3a89a"
      },
      "execution_count": 44,
      "outputs": [
        {
          "output_type": "stream",
          "name": "stdout",
          "text": [
            "Title: TMGP Ep 22 with Injury Coach, Chiropractor and Powerlifter Dr J’aime Goguen-Locke\n",
            "URL: https://podcasts.apple.com/za/podcast/tmgp-ep-22-with-injury-coach-chiropractor-and/id1717906577?i=1000667179540\n",
            "Description: Dr. J'aime Goguen is a dedicated chiropractor and injury coach with over 18 years of experience helping individuals recover from musculoskeletal injuries. She earned her Doctor of Chiropractic degree from Parker University and takes a holistic approach to treatment, incorporating techniques such as deep tissue myofascial release, active rehabilitation, and nutritional guidance to support her patients' recovery. As an injury coach, specializing in powerlifting injury management and prevention, Dr. J'aime emphasizes preventative care and works collaboratively with other healthcare professionals to provide comprehensive, tailored care for her patients. She is committed to patient education and empowerment, setting her apart as a leader in the field of chiropractic care. In addition to her work as a chiropractor, Dr. J'aime is an accomplished powerlifter. Dr. J'aime’s dedication to the sport of powerlifting and her work as the head clinician with Kodiak Barbell demonstrates her passion for health, fitness, and helping others achieve their goals. Join Dr. J'aime Goguen in this episode of TMGP as she shares insights into her practice, discusses common misconceptions about health care, and offers valuable tips for maintaining a healthy lifestyle. Her unique perspective as both a chiropractor, injury consultant and an elite powerlifter will provide valuable insights for anyone looking to optimize their health and performance. In today’s episode, we can look forward to insights from Dr J’aime related to Injury consulting, rehabilitation, healthcare systems, injury prevention the body being a master of compensation, squat technique, thoughts on Squat University including one's back ability, the infamous dead pig study, fixed stance for squat, ATG, weird exercises, Filming training benefits - physconeuromuscular theory etc, managing pain through exercise not rest , the importance of obliques training, full extension sit ups, and more!\n",
            "----------\n",
            "Title: TMGP Ep 21 with Muscle Genius & National Powerlifter Michael Cowley\n",
            "URL: https://podcasts.apple.com/za/podcast/tmgp-ep-21-with-muscle-genius-national-powerlifter/id1717906577?i=1000665440344\n",
            "Description: Michael Cowley is a postgraduate student at Stellenbosch University pursuing a master's degree in myology (or muscle science). His research focuses on the effects of different grades of unilateral eccentric exercise on delayed onset muscle soreness and satellite cell activation status. As an accomplished national-level powerlifter, Michael brings a unique perspective to the study of muscle growth and regeneration. He is part of the Muscle Research Group at Stellenbosch University, which conducts internationally competitive research on the cellular and molecular aspects of muscle regeneration after injury. Michael also just had a new superb deadlift PR (personal record) achieved last month. In today’s episode, we can look forward to insights from Dr Moe related to How muscles grow How muscles get injured How muscles recover from injury Stem Cells Contralateral training and biomarkers Ice baths Sauna Powerlifting Powerbuilding Muscles Recovery Mind muscle connection And more!\n",
            "----------\n",
            "Title: TMGP Ep 20 with Myology genius & National Powerlifter Michael Cowley\n",
            "URL: https://podcasts.apple.com/za/podcast/tmgp-ep-20-with-myology-genius-national-powerlifter/id1717906577?i=1000664068622\n",
            "Description: Michael Cowley is a postgraduate student at Stellenbosch University pursuing a master's degree in myology (or muscle science). His research focuses on the effects of different grades of unilateral eccentric exercise on delayed onset muscle soreness and satellite cell activation status. As an accomplished national-level powerlifter, Michael brings a unique perspective to the study of muscle growth and regeneration. He is part of the Muscle Research Group at Stellenbosch, which conducts internationally competitive research on the cellular and molecular aspects of muscle regeneration after injury. Michael also just had a new superb deadlift PR (personal record) achieved last month. A whopping 300kg deadlift, so here is a person who clearly is utilizing their research into practice! In today’s episode, we can look forward to insights from Michae related to Myology 101 Muscle biology How muscles grow Ingredients for growth Protein Creatine Muscles, Stem cells, and more!\n",
            "----------\n",
            "Title: TMGP Ep 19 with Male Hormone Expert Dr Moeller part 2\n",
            "URL: https://podcasts.apple.com/za/podcast/tmgp-ep-19-with-male-hormone-expert-dr-moeller-part-2/id1717906577?i=1000662674954\n",
            "Description: Dr Michael Moeller is a leading naturopathic doctor and hormone specialist who has dedicated his career to helping men optimize their health and age gracefully. After receiving his bachelor's degree in pre-medical sciences from Southern Illinois University Carbondale in 2013, he went on to earn his doctorate in naturopathic medicine from Bastyr University California in 2017. The majority of Dr Moeller's clinical practice focuses on testosterone optimization therapy, intravenous nutrient therapy, speciality lab testing, and regenerative injection therapies. In today’s episode, we can look forward to insights from Dr Moe related to Peptides like BPC-157, CJC-1295, creatine, semaglutide; Big pharma and its dark side; Alcohol; The importance of Educating people and allowing them to make informed decisions; TRT; effects of low Testosterone; growth hormone; benefits of healthy testosterone levels; muscle accumulation and its benefits for longevity and health.\n",
            "----------\n",
            "Title: TMGP Ep 18 with Male Hormone Expert Dr Moeller\n",
            "URL: https://podcasts.apple.com/za/podcast/tmgp-ep-18-with-male-hormone-expert-dr-moeller/id1717906577?i=1000661177824\n",
            "Description: Dr Moeller, known as Dr Moe, is a leading naturopathic doctor and hormone specialist who has dedicated his career to helping men optimize their health and age gracefully. After receiving his bachelor's degree in pre-medical sciences from Southern Illinois University Carbondale in 2013, he went on to earn his doctorate in naturopathic medicine from Bastyr University California in 2017. The majority of Dr Moeller's clinical practice focuses on testosterone optimization therapy, intravenous nutrient therapy, speciality lab testing, and regenerative injection therapies like prolotherapy and platelet-rich plasma (PRP). He is passionate about using natural, evidence-based approaches to help men address issues like low libido, erectile dysfunction, muscle loss, and cognitive decline. You can look forward to insights on TRT, supplementation, muscle growth tips, the failing and dishonest medical system in the US, and much more!\n",
            "----------\n",
            "Title: TMGP Ep 17 with coach, educator, and Modern Meathead Ben Yanes\n",
            "URL: https://podcasts.apple.com/za/podcast/tmgp-ep-17-with-coach-educator-and-modern-meathead-ben-yanes/id1717906577?i=1000659621391\n",
            "Description: Ben Yanes, known as The Modern Meathead, is a prominent figure in the fitness and lifting community. He hosts the popular Modern Meathead Experience podcast, sharing his insights and expertise on various topics related to muscle growth and overall well-being. With a strong online presence on platforms like YouTube and Instagram, Ben has built a significant following and is frequently featured as a guest on other popular fitness podcasts, including the Key Nutrition Podcast and now The Muscle Growth Podcast. Ben has an excellent grasp on often overlooked key aspects of lifting and uses science and anatomy to create intelligent courses and communities for people who love to lift. In today’s episode, we can look forward to insights from Ben on Anchoring and anchoring principles, fundamentals, common fitness myths, fear-mongering in fitness, biomechanics, injury prevention, debunking “functional training”, improving exercise selection and exercise positioning and first principles.\n",
            "----------\n",
            "Title: TMGP Ep 16 with Orthopedic Surgeon and Researcher Dr Vonda Wright\n",
            "URL: https://podcasts.apple.com/za/podcast/tmgp-ep-16-with-orthopedic-surgeon-and-researcher-dr/id1717906577?i=1000658078358\n",
            "Description: Dr Vonda Wright is a double-boarded, fellowship-trained orthopaedic surgeon and internationally recognized authority on active ageing and mobility. Dr. Wright’s practice focuses on minimally invasive surgery for hip preservation, shoulder and knee reconstruction, cartilage restoration, orthobiologics, and the latest in injury prevention and performance optimization. Dr Wright is the founding director of the Performance and Research Initiative for Masters Athletes (PRIMA), and her pioneering research in mobility, and musculoskeletal ageing is changing the way we view and treat the ageing process. In today’s episode, we can look forward to insights from Dr Wright related to musculoskeletal health, how we can age better, life expectancy vs health expectancy, vitality in older age groups, the importance of lifting heavy weights, how to flatten your glucose curve and reduce the severity of sugar spikes.\n",
            "----------\n",
            "Title: TMGP Ep 15 with Researcher, Lecturer, and Fitness Buff Max Coleman p2\n",
            "URL: https://podcasts.apple.com/za/podcast/tmgp-ep-15-with-researcher-lecturer-and-fitness-buff/id1717906577?i=1000656556734\n",
            "Description: Max Coleman, a Lehman College graduate and lecturer, is a passionate researcher who delves into how training variables affect muscle hypertrophy. His love for science, muscles, and cooking is evident in his work, making him a valuable scientific advisor @builtwithscience. Max Coleman's research at Lehman College is not just about understanding muscle growth but also about optimizing it through practical strategies. His work explores the mechanisms of muscle hypertrophy, the impact of different training variables, and the role of nutrition. By focusing on topics such as periodization, training volume, and recovery, Coleman's findings provide actionable insights for individuals, athletes, and fitness enthusiasts striving to achieve their muscle growth goals. In today’s episode, we can expect insights from Max related to his research studies and vast knowledge of using science to drive muscle hypertrophy gains.\n",
            "----------\n",
            "Title: TMGP Ep 14 with Researcher, Lecturer, and Fitness Buff Max Coleman\n",
            "URL: https://podcasts.apple.com/za/podcast/tmgp-ep-14-with-researcher-lecturer-and-fitness-buff/id1717906577?i=1000655101272\n",
            "Description: Max Coleman, a Lehman College graduate and lecturer, is a passionate researcher who delves into how training variables affect muscle hypertrophy. His love for science, muscles, and cooking is evident in his work, making him a valuable scientific advisor @builtwithscience. Max Coleman's research at Lehman College is not just about understanding muscle growth but also about optimizing it through practical strategies. His work explores the mechanisms of muscle hypertrophy, the impact of different training variables, and the role of nutrition. By focusing on topics such as periodization, training volume, and recovery, Coleman's findings provide actionable insights for individuals, athletes, and fitness enthusiasts striving to achieve their muscle growth goals. In today’s episode, we can expect insights from Max related to his research studies and vast knowledge of using science to drive muscle hypertrophy gains.\n",
            "----------\n",
            "Title: TMGP Ep 13 with gymbro Roscoe\n",
            "URL: https://podcasts.apple.com/za/podcast/tmgp-ep-13-with-gymbro-roscoe/id1717906577?i=1000653580457\n",
            "Description: This white male podcast host humorously introduces himself as just another guy with a podcast. He holds degrees in Mathematical Science and Computer Science from Stellenbosch University and the University of Cape Town. Beyond academics, he is a skilled tennis and squash player, representing his province multiple times and winning the South African National Championship Racketlon tournament in various age categories. After school, he prioritized tennis, academics, and fitness. He is a software engineer passionate about the gym and helping others chase their hypertrophy goals through science-based methods. He aims to enable people to become bigger, stronger, and better versions of themselves. In this episode, you can look forward to a deep dive into optimal nutrition for muscle growth based on scientific literature, as well as a free workout program and seeing his 5-year goals which include a 300kg deadlift!\n",
            "----------\n",
            "Title: TMGP Ep 12 with coach, PhD student, and researcher Jake Remmert part 2\n",
            "URL: https://podcasts.apple.com/za/podcast/tmgp-ep-12-with-coach-phd-student-and-researcher/id1717906577?i=1000652127219\n",
            "Description: Jake has a B.S. (honours) in exercise science and is a Certified Strength and Conditioning Specialist. He is currently a researcher, lecturer, and PhD candidate at Florida Atlantic University, where he is working in the Muscle Physiology Laboratory. Here, his research focuses on optimizing program design to maximize hypertrophy and strength. Jake is also a coach with Data-Driven Strength, where he provides educational services and 1-on-1 coaching for clients with goals ranging from elite powerlifting performance and competitive bodybuilding to recreational strength, muscle growth, and fat loss. He is a competitor himself as well, with nearly 10 years of training experience and multiple competitions under his belt. In today’s episode, we can look forward to insights from Jake related to his projects in academia and using research studies and data-driven techniques to drive strength and hypertrophy gains.\n",
            "----------\n",
            "Title: TMGP Ep 11 with coach Jake Remmert\n",
            "URL: https://podcasts.apple.com/za/podcast/tmgp-ep-11-with-coach-jake-remmert/id1717906577?i=1000650693182\n",
            "Description: Jake has a B.S. (honours) in exercise science and is a Certified Strength and Conditioning Specialist. He is currently a researcher, lecturer, and PhD candidate at Florida Atlantic University, where he is working in the Muscle Physiology Laboratory. Here, his research focuses on optimizing program design to maximize hypertrophy and strength. Jake is also a coach with Data Driven Strength, where he provides educational services and 1-on-1 coaching for clients with goals ranging from elite powerlifting performance and competitive bodybuilding to recreational strength, muscle growth, and fat loss. He is a competitor himself as well, with nearly 10 years of training experience and multiple competitions under his belt. In today’s episode, we can look forward to insights from Jake related to programming and using data-driven techniques to drive strength and hypertrophy gains.\n",
            "----------\n",
            "Title: TMGP Ep 10 with Dr Pak\n",
            "URL: https://podcasts.apple.com/za/podcast/tmgp-ep-10-with-dr-pak/id1717906577?i=1000649243267\n",
            "Description: Pak did his PhD in Sports Science at Solent University (UK) on the topic of “the minimum effective training dose for strength in powerlifters.” His research focuses on muscle strength, hypertrophy, and strength sport performance. Pak has worked for over 5 years with physique athletes, powerlifters, and recreationally active individuals looking to get stronger and improve their body composition. He believes that a genuinely evidence-based approach to training and nutrition should be guided by the current available scientific evidence as well as professional experience, while factoring in individual preferences and idiosyncrasies. As a coach, his aim is to create a collaborative atmosphere, based on the consolidation of his experience and the client's feedback, which in turn will generate an adaptive plan of action that best suits the client's goals.\n",
            "----------\n",
            "Title: TMGP Ep 09 with physio, powerlifter, and coach Jared Maynard\n",
            "URL: https://podcasts.apple.com/za/podcast/tmgp-ep-09-with-physio-powerlifter-and-coach-jared-maynard/id1717906577?i=1000647519254\n",
            "Description: Despite his extensive background in healthcare, Jared acknowledges its shortcomings, especially in addressing injuries. His personal encounter with health struggles took a significant turn when he fell critically ill, spending five weeks in the ICU due to HLH disease. Enduring a 40-pound weight loss, predominantly lean tissue, Jared attributes his survival to the initial muscle tissue he had built over the years. Now weighing over 180 pounds, a remarkable recovery from his ICU weight of 150 pounds, Jared underscores the importance of muscle for longevity and for overall well-being. His story embodies the essence of bouncing back, with a focus on strength and muscle memory, helping to bring him back to his original 193 pounds from his time in the ICU and his current resilient state.\n",
            "----------\n",
            "Title: TMGP Ep 08 with sleep expert and biohacker Riley Jarvis part 2\n",
            "URL: https://podcasts.apple.com/za/podcast/tmgp-ep-08-with-sleep-expert-and-biohacker-riley/id1717906577?i=1000645440546\n",
            "Description: Riley is a sleep consultant who has helped high performers achieve more out of their personal and work lives using cutting-edge scientific lab testing, strategies, and techniques. To hear more about Riley and to get his first portion of this 2-part episode, please feel free to check out TMGP episode 7 for more sleep-improving-related value. In today's episode, we can look forward to sleeping tips, achieving sleep nirvana, optimizing sleep and recovery, improving your sleeping environment, waking up rituals, circadian rhythms, advanced sleeping techniques and hacks, falling asleep faster, sleep supplements, sleep tracking, and more!\n",
            "----------\n",
            "Title: TMGP Ep 07 with sleep expert and biohacker Riley Jarvis\n",
            "URL: https://podcasts.apple.com/za/podcast/tmgp-ep-07-with-sleep-expert-and-biohacker-riley-jarvis/id1717906577?i=1000643863544\n",
            "Description: Riley is a sleep consultant who has helped high performers achieve more out of their personal and work life using cutting-edge scientific lab testing, strategies, and techniques. With only so many waking hours in the day, the quality of hours sleeping is what can make the difference between peak performance and functioning at a fraction of your true potential. Currently residing in Vancouver, Canada, Riley spends most of his time in the outdoors hiking, snowboarding, and finding the next exciting adventure. Inside the “sleep lab”, he enjoys reading the latest sleep intel, collaborating with other thought leaders, and helping clients get life changing results. Riley is also a qualified Health Coach for Peak Performance & Flow and a qualified sleep consultant coach at TheSleepConsultant.Com In today's episode, we can look forward to advice about supplements for energy, focus, sleeping aids, general health and hormone supplements, discussions about health, genetics, and biohacking.\n",
            "----------\n",
            "Title: TMGP Ep 06 with world record holder and Ninja Warrior Ginny Maccoll\n",
            "URL: https://podcasts.apple.com/za/podcast/tmgp-ep-06-with-world-record-holder-and-ninja/id1717906577?i=1000642084408\n",
            "Description: Ginny is an actress, dancer, and competitive athlete in both Ninja Warrior and swimming. Ginny rekindled her acting career in retirement in and also began strength training, inspired by her daughter, Jessie Graff, who has gone farther than any female on American Ninja Warrior. At 63 years old, Ginny did her very first pull up and later competed on American Ninja Warrior, Season 9, 10, and 15, making history at age 71 as the oldest person to complete an obstacle. She was named the oldest competitive female ninja athlete in the 2024 Guinness World Record Book! Ginny continues to compete regionally in ninja competitions and local state and national swim meets. In today's episode, we can look forward to advice from Jessie Graff, discussions about it never being too late or too old to start your fitness journey, slow, but continuous progress, the importance of pull-ups, Ninja Warrior, women lifting weights, discipline and commitment, strength being ageless, and movement being key.\n",
            "----------\n",
            "Title: TMGP Ep 05 with coach Leo Kruger\n",
            "URL: https://podcasts.apple.com/za/podcast/tmgp-ep-05-with-coach-leo-kruger/id1717906577?i=1000640585450\n",
            "Description: Beyond the world of coaching, Leo leads a double life as a business intelligence analyst, where he specializes in creating and analyzing data models. It's a job that keeps him on his toes, but Leo’s true passion lies in the realm of fitness and muscle growth. Currently, Leo has the privilege of working with a diverse group of 55 clients, ranging from those embracing the lifestyle to competitive athletes, with a notable 65% being phenomenal women. The proof of their collective hard work is reflected in 2023's impressive placings: 9 first places, 4 second places, and 7 third places. It's a testament to the dedication and commitment of the incredible individuals that he has the honour of coaching. As a programming and hypertrophy expert, Leo brings a wealth of knowledge to the table. Tune in to learn from coach Leo.\n",
            "----------\n",
            "Title: TMGP Ep 04 with bench press (E) world record holder: Ashleigh Hoeta\n",
            "URL: https://podcasts.apple.com/za/podcast/tmgp-ep-04-with-bench-press-e-world-record-holder/id1717906577?i=1000639379144\n",
            "Description: Ashleigh is multitalented: a mom of 2, a student studying to become a teacher, an ex-gymnast, pole dancer, New Zealand’s female arm wrestling champion, and now the world’s strongest female equipped bench presser. She smashed the world record for female-equipped bench press on her second attempt at her last powerlifting meet and then smashed her own world record on her third attempt hitting a whopping 700lbs or 317.5kg!\n",
            "----------\n",
            "Title: TMGP Ep 03 with coach Morgan Agran\n",
            "URL: https://podcasts.apple.com/za/podcast/tmgp-ep-03-with-coach-morgan-agran/id1717906577?i=1000638537543\n",
            "Description: Morgan is an online fitness coach who helps men and women between the ages of 30-50 who work a desk job to take ownership of their health and fitness goals. She is a college rugby player and an avid gym goer who has managed to amass an astonishing 30lbs of muscle in 4 years, while also losing fat and getting stronger! She can deadlift 180kg and knows how to tackle so she is not someone that you want to mess with! Tune in to listen to her tips on how to effectively recomp your body!\n",
            "----------\n",
            "Title: TMGP Ep 02 with Dr Milo Wolf\n",
            "URL: https://podcasts.apple.com/za/podcast/tmgp-ep-02-with-dr-milo-wolf/id1717906577?i=1000637022738\n",
            "Description: Dr Wolf has a Ph.D. specializing in muscle hypertrophy and strength research. For over four years, Milo has been a guiding force, helping individuals achieve their goals of gaining muscle, increasing strength, and achieving leanness. Drawing from his extensive background in both bodybuilding and powerlifting, Milo brings a wealth of knowledge and practical experience to his coaching, having not only trained but also competed in these disciplines. Now is your chance to hear his views on evidence-based methodology to maximize your muscle growth!\n",
            "----------\n",
            "Title: TMGP Ep 01 with Coach Benjamin Yeezus\n",
            "URL: https://podcasts.apple.com/za/podcast/tmgp-ep-01-with-coach-benjamin-yeezus/id1717906577?i=1000635781190\n",
            "Description: Coach Benjamin is a professional lifestyle coach, bodybuilder, and a level 5 certified nutritionist from Glasgow in the United Kingdom. Benjamin overcame bullying in his younger years to become a top international bodybuilder and fitness coach. Ben now helps people from all walks of life who share a common goal of being healthy and getting fit, and now you have the opportunity for him to help you too!\n",
            "----------\n",
            "Total episodes scraped: 22\n"
          ]
        }
      ]
    },
    {
      "cell_type": "markdown",
      "source": [
        "# **Scrape Spotify**\n",
        "\n"
      ],
      "metadata": {
        "id": "iJMtol04kduy"
      }
    },
    {
      "cell_type": "code",
      "source": [
        "from selenium.webdriver.common.by import By\n",
        "from selenium.webdriver.support.ui import WebDriverWait\n",
        "from selenium.webdriver.support import expected_conditions as EC\n",
        "from selenium import webdriver\n",
        "import time\n",
        "\n",
        "# Function to initialize the WebDriver\n",
        "def init_driver():\n",
        "    options = webdriver.ChromeOptions()\n",
        "    options.add_argument('--ignore-certificate-errors')\n",
        "    options.add_argument('--incognito')\n",
        "    options.add_argument('--headless')  # Run Chrome in headless mode\n",
        "    options.add_argument('--no-sandbox')  # Bypass OS security model\n",
        "    options.add_argument('--disable-dev-shm-usage')  # Overcome limited resource problems\n",
        "    driver = webdriver.Chrome(options=options)  # Correct usage: pass options to the constructor\n",
        "    return driver\n",
        "\n",
        "# Function to scroll to the top of the page\n",
        "def scroll_to_top(driver):\n",
        "    driver.execute_script(\"window.scrollTo(0, 0);\")\n",
        "    time.sleep(2)  # Allow time for the scroll action to complete\n",
        "\n",
        "# Function to click elements using CSS selectors\n",
        "def click_element(driver, selector):\n",
        "    try:\n",
        "        element = WebDriverWait(driver, 10).until(\n",
        "            EC.element_to_be_clickable((By.CSS_SELECTOR, selector))\n",
        "        )\n",
        "        element.click()\n",
        "        return True\n",
        "    except Exception as e:\n",
        "        print(f\"Element not found or not clickable: {e}\")\n",
        "        return False\n",
        "\n",
        "# Example usage\n",
        "if __name__ == \"__main__\":\n",
        "    url = \"https://open.spotify.com/show/0TBy1wFQocjsf4MGqPVNKV\"\n",
        "    driver = init_driver()\n",
        "    driver.get(url)\n",
        "\n",
        "    try:\n",
        "        # Step 3: Scroll to the top of the page\n",
        "        scroll_to_top(driver)\n",
        "\n",
        "        # Step 4: Scroll to the top of the page again (if necessary)\n",
        "        scroll_to_top(driver)\n",
        "\n",
        "        # Step 5-7: Click on elements using the specified CSS selector\n",
        "        selector = '.LegacyChipInner__ChipInnerComponent-sc-1qguixk-0 > .encore-text'\n",
        "\n",
        "        # Loop to click the element until it's no longer available or clickable\n",
        "        click_attempts = 0\n",
        "        max_clicks = 3  # Maximum number of clicks to attempt\n",
        "        while click_attempts < max_clicks:\n",
        "            if click_element(driver, selector):\n",
        "                print(f\"Click {click_attempts + 1} successful\")\n",
        "                click_attempts += 1\n",
        "                time.sleep(5)  # Delay to ensure content loads after each click\n",
        "            else:\n",
        "                break\n",
        "\n",
        "        # Find the element with data-testid=\"infinite-scroll-list\"\n",
        "        infinite_scroll_list = driver.find_element(By.CSS_SELECTOR, '[data-testid=\"infinite-scroll-list\"]')\n",
        "\n",
        "        # Within the infinite scroll list, find all anchor tags\n",
        "        episode_links = infinite_scroll_list.find_elements(By.TAG_NAME, 'a')\n",
        "\n",
        "        # Extract hrefs from each anchor tag\n",
        "        episode_and_show_list = []\n",
        "        for episode_link in episode_links:\n",
        "            episode_href = episode_link.get_attribute('href')\n",
        "            if episode_href and 'show' not in episode_href:\n",
        "                print(\"Episode Link:\", episode_href)\n",
        "                episode_and_show_list.append(episode_href)\n",
        "\n",
        "    finally:\n",
        "        driver.quit()\n"
      ],
      "metadata": {
        "colab": {
          "base_uri": "https://localhost:8080/"
        },
        "id": "qw0Yfqoa_foH",
        "outputId": "55bd69e3-e5ec-4b4d-8b03-4c23725854a8"
      },
      "execution_count": 45,
      "outputs": [
        {
          "output_type": "stream",
          "name": "stdout",
          "text": [
            "Click 1 successful\n",
            "Click 2 successful\n",
            "Click 3 successful\n",
            "Episode Link: https://open.spotify.com/episode/6tPwmGJ4WKh04U82hCtGM0\n",
            "Episode Link: https://open.spotify.com/episode/6G77vKu5HMVjnxmNYWTpgm\n",
            "Episode Link: https://open.spotify.com/episode/5WY6g608AjhfF8AqQatxLb\n",
            "Episode Link: https://open.spotify.com/episode/2rUoYlIkv1SmDSWpZLhCWI\n",
            "Episode Link: https://open.spotify.com/episode/4gAbW6QEJsltCvUsfd3NdW\n",
            "Episode Link: https://open.spotify.com/episode/7ndsxdboK4dxWs5BvUFp4P\n",
            "Episode Link: https://open.spotify.com/episode/72yX4xayGrxXaIQv8NgQ3S\n",
            "Episode Link: https://open.spotify.com/episode/6oCz7AqlQDHu4ZWrn21kC3\n",
            "Episode Link: https://open.spotify.com/episode/0sWyuKGDPXiI64ycdKO7ls\n",
            "Episode Link: https://open.spotify.com/episode/58CgSrPor1Uh6mMu8z7WaI\n",
            "Episode Link: https://open.spotify.com/episode/4gzfcWJ0lfGYcDwCKf0wol\n",
            "Episode Link: https://open.spotify.com/episode/5VhoEetiuhb8C5khvN5jJz\n",
            "Episode Link: https://open.spotify.com/episode/07Nr4mEGSerj9RMMjodO7C\n",
            "Episode Link: https://open.spotify.com/episode/7LDBCnUkObt3rr5ykEgyqP\n",
            "Episode Link: https://open.spotify.com/episode/0D6qjm9C5yCnZh1vhnxQH3\n",
            "Episode Link: https://open.spotify.com/episode/0iaYnuxhebYCiuEbESB7ng\n",
            "Episode Link: https://open.spotify.com/episode/5MEqZU122WFlOH1fJabtVQ\n",
            "Episode Link: https://open.spotify.com/episode/4yzeLGkEA1dRNc2R66nAQk\n",
            "Episode Link: https://open.spotify.com/episode/3HGFNNgFmMZepAPMTm0YTT\n",
            "Episode Link: https://open.spotify.com/episode/6he0VyS57abcOM5zvXlyeu\n",
            "Episode Link: https://open.spotify.com/episode/4QipFMlqT29Y3ODBIXAZpS\n",
            "Episode Link: https://open.spotify.com/episode/4ehoF8sNaAx0dQc8SiDngB\n"
          ]
        }
      ]
    },
    {
      "cell_type": "code",
      "source": [
        "episode_and_show_list"
      ],
      "metadata": {
        "colab": {
          "base_uri": "https://localhost:8080/"
        },
        "id": "x8TJX-J_of6g",
        "outputId": "2aeadb94-dd63-4cd4-9664-a233f1a0ab40"
      },
      "execution_count": 21,
      "outputs": [
        {
          "output_type": "execute_result",
          "data": {
            "text/plain": [
              "['https://open.spotify.com/episode/6tPwmGJ4WKh04U82hCtGM0',\n",
              " 'https://open.spotify.com/episode/6G77vKu5HMVjnxmNYWTpgm',\n",
              " 'https://open.spotify.com/episode/5WY6g608AjhfF8AqQatxLb',\n",
              " 'https://open.spotify.com/episode/2rUoYlIkv1SmDSWpZLhCWI',\n",
              " 'https://open.spotify.com/episode/4gAbW6QEJsltCvUsfd3NdW',\n",
              " 'https://open.spotify.com/episode/7ndsxdboK4dxWs5BvUFp4P',\n",
              " 'https://open.spotify.com/episode/72yX4xayGrxXaIQv8NgQ3S',\n",
              " 'https://open.spotify.com/episode/6oCz7AqlQDHu4ZWrn21kC3',\n",
              " 'https://open.spotify.com/episode/0sWyuKGDPXiI64ycdKO7ls',\n",
              " 'https://open.spotify.com/episode/58CgSrPor1Uh6mMu8z7WaI',\n",
              " 'https://open.spotify.com/episode/4gzfcWJ0lfGYcDwCKf0wol',\n",
              " 'https://open.spotify.com/episode/5VhoEetiuhb8C5khvN5jJz',\n",
              " 'https://open.spotify.com/episode/07Nr4mEGSerj9RMMjodO7C',\n",
              " 'https://open.spotify.com/episode/7LDBCnUkObt3rr5ykEgyqP',\n",
              " 'https://open.spotify.com/episode/0D6qjm9C5yCnZh1vhnxQH3',\n",
              " 'https://open.spotify.com/episode/0iaYnuxhebYCiuEbESB7ng',\n",
              " 'https://open.spotify.com/episode/5MEqZU122WFlOH1fJabtVQ',\n",
              " 'https://open.spotify.com/episode/4yzeLGkEA1dRNc2R66nAQk',\n",
              " 'https://open.spotify.com/episode/3HGFNNgFmMZepAPMTm0YTT',\n",
              " 'https://open.spotify.com/episode/6he0VyS57abcOM5zvXlyeu',\n",
              " 'https://open.spotify.com/episode/4QipFMlqT29Y3ODBIXAZpS',\n",
              " 'https://open.spotify.com/episode/4ehoF8sNaAx0dQc8SiDngB']"
            ]
          },
          "metadata": {},
          "execution_count": 21
        }
      ]
    },
    {
      "cell_type": "code",
      "source": [
        "episode_urls = []\n",
        "for url in episode_and_show_list:\n",
        "  if \"episode\" in url:\n",
        "    print(url)\n",
        "    episode_urls.append(url)"
      ],
      "metadata": {
        "colab": {
          "base_uri": "https://localhost:8080/"
        },
        "id": "5oW4BMOGoi_e",
        "outputId": "d2bb0546-a54f-4f30-9918-5be254da0ae2"
      },
      "execution_count": 22,
      "outputs": [
        {
          "output_type": "stream",
          "name": "stdout",
          "text": [
            "https://open.spotify.com/episode/6tPwmGJ4WKh04U82hCtGM0\n",
            "https://open.spotify.com/episode/6G77vKu5HMVjnxmNYWTpgm\n",
            "https://open.spotify.com/episode/5WY6g608AjhfF8AqQatxLb\n",
            "https://open.spotify.com/episode/2rUoYlIkv1SmDSWpZLhCWI\n",
            "https://open.spotify.com/episode/4gAbW6QEJsltCvUsfd3NdW\n",
            "https://open.spotify.com/episode/7ndsxdboK4dxWs5BvUFp4P\n",
            "https://open.spotify.com/episode/72yX4xayGrxXaIQv8NgQ3S\n",
            "https://open.spotify.com/episode/6oCz7AqlQDHu4ZWrn21kC3\n",
            "https://open.spotify.com/episode/0sWyuKGDPXiI64ycdKO7ls\n",
            "https://open.spotify.com/episode/58CgSrPor1Uh6mMu8z7WaI\n",
            "https://open.spotify.com/episode/4gzfcWJ0lfGYcDwCKf0wol\n",
            "https://open.spotify.com/episode/5VhoEetiuhb8C5khvN5jJz\n",
            "https://open.spotify.com/episode/07Nr4mEGSerj9RMMjodO7C\n",
            "https://open.spotify.com/episode/7LDBCnUkObt3rr5ykEgyqP\n",
            "https://open.spotify.com/episode/0D6qjm9C5yCnZh1vhnxQH3\n",
            "https://open.spotify.com/episode/0iaYnuxhebYCiuEbESB7ng\n",
            "https://open.spotify.com/episode/5MEqZU122WFlOH1fJabtVQ\n",
            "https://open.spotify.com/episode/4yzeLGkEA1dRNc2R66nAQk\n",
            "https://open.spotify.com/episode/3HGFNNgFmMZepAPMTm0YTT\n",
            "https://open.spotify.com/episode/6he0VyS57abcOM5zvXlyeu\n",
            "https://open.spotify.com/episode/4QipFMlqT29Y3ODBIXAZpS\n",
            "https://open.spotify.com/episode/4ehoF8sNaAx0dQc8SiDngB\n"
          ]
        }
      ]
    },
    {
      "cell_type": "markdown",
      "source": [
        "# Concactenate Info from Apple and Spotify"
      ],
      "metadata": {
        "id": "vPg1OSTvqiYK"
      }
    },
    {
      "cell_type": "markdown",
      "source": [
        "Episode 7:\n",
        "\n",
        "TMGP Ep 07 with sleep expert and biohacker Riley Jarvis\n",
        "\n",
        "Riley is a sleep consultant who has helped high performers achieve more out of their personal and work life using cutting-edge scientific lab testing, strategies, and techniques.\n",
        "\n",
        "With only so many waking hours in the day, the quality of hours sleeping is what can make the difference between peak performance and functioning at a fraction of your true potential.\n",
        "\n",
        "Currently residing in Vancouver, Canada, Riley spends most of his time outdoors, hiking, snowboarding, and finding the next exciting adventure. Inside the “sleep lab”, he enjoys reading the latest sleep intel, collaborating with other thought leaders, and helping clients get life-changing results.\n",
        "\n",
        "Riley is also a qualified Health Coach for Peak Performance & Flow and a qualified sleep consultant coach at TheSleepConsultant.Com\n",
        "\n",
        "In today’s episode, we can look forward to advice about supplements for energy, focus, sleeping aids, general health and hormone supplements, tips on sleep, discussions about health, the importance of sleep, and biohacking through the use of cutting-edge science and medicine.\n",
        "\n",
        "Apple:\n",
        "\n",
        "https://podcasts.apple.com/za/podcast/tmgp-ep-07-with-sleep-expert-and-biohacker-riley-jarvis/id1717906577?i=1000643863544\n",
        "\n",
        "Spotify:\n",
        "\n",
        "https://open.spotify.com/episode/0iaYnuxhebYCiuEbESB7ng"
      ],
      "metadata": {
        "id": "Zk9Fxo0_qlhF"
      }
    },
    {
      "cell_type": "code",
      "source": [
        "def create_episode_info(episode_titles, episode_descriptions, episode_urls, episode_apple_urls):\n",
        "    episodes = []\n",
        "\n",
        "    for i in range(len(episode_titles)):\n",
        "        episode_info = {\n",
        "            \"title\": episode_titles[i],\n",
        "            \"description\": episode_descriptions[i],\n",
        "            \"urls\": {\n",
        "                \"spotify\": episode_urls[i],\n",
        "                \"apple\": episode_apple_urls[i]\n",
        "            }\n",
        "        }\n",
        "        episodes.append(episode_info)\n",
        "\n",
        "    return episodes"
      ],
      "metadata": {
        "id": "DPayVlAEr0Xu"
      },
      "execution_count": 46,
      "outputs": []
    },
    {
      "cell_type": "code",
      "source": [
        "# episodes"
      ],
      "metadata": {
        "id": "9B58lRV_r-v1"
      },
      "execution_count": 24,
      "outputs": []
    },
    {
      "cell_type": "code",
      "source": [
        "print(episode_titles)\n",
        "print(episode_descriptions)\n",
        "print(episode_urls)\n",
        "print(episode_apple_urls)"
      ],
      "metadata": {
        "colab": {
          "base_uri": "https://localhost:8080/"
        },
        "id": "s-dYAlBL0ah9",
        "outputId": "3b4f09af-aa57-4956-f525-15611727189f"
      },
      "execution_count": 25,
      "outputs": [
        {
          "output_type": "stream",
          "name": "stdout",
          "text": [
            "[]\n",
            "[]\n",
            "['https://open.spotify.com/episode/6tPwmGJ4WKh04U82hCtGM0', 'https://open.spotify.com/episode/6G77vKu5HMVjnxmNYWTpgm', 'https://open.spotify.com/episode/5WY6g608AjhfF8AqQatxLb', 'https://open.spotify.com/episode/2rUoYlIkv1SmDSWpZLhCWI', 'https://open.spotify.com/episode/4gAbW6QEJsltCvUsfd3NdW', 'https://open.spotify.com/episode/7ndsxdboK4dxWs5BvUFp4P', 'https://open.spotify.com/episode/72yX4xayGrxXaIQv8NgQ3S', 'https://open.spotify.com/episode/6oCz7AqlQDHu4ZWrn21kC3', 'https://open.spotify.com/episode/0sWyuKGDPXiI64ycdKO7ls', 'https://open.spotify.com/episode/58CgSrPor1Uh6mMu8z7WaI', 'https://open.spotify.com/episode/4gzfcWJ0lfGYcDwCKf0wol', 'https://open.spotify.com/episode/5VhoEetiuhb8C5khvN5jJz', 'https://open.spotify.com/episode/07Nr4mEGSerj9RMMjodO7C', 'https://open.spotify.com/episode/7LDBCnUkObt3rr5ykEgyqP', 'https://open.spotify.com/episode/0D6qjm9C5yCnZh1vhnxQH3', 'https://open.spotify.com/episode/0iaYnuxhebYCiuEbESB7ng', 'https://open.spotify.com/episode/5MEqZU122WFlOH1fJabtVQ', 'https://open.spotify.com/episode/4yzeLGkEA1dRNc2R66nAQk', 'https://open.spotify.com/episode/3HGFNNgFmMZepAPMTm0YTT', 'https://open.spotify.com/episode/6he0VyS57abcOM5zvXlyeu', 'https://open.spotify.com/episode/4QipFMlqT29Y3ODBIXAZpS', 'https://open.spotify.com/episode/4ehoF8sNaAx0dQc8SiDngB']\n",
            "[]\n"
          ]
        }
      ]
    },
    {
      "cell_type": "code",
      "source": [
        "len(episode_titles)"
      ],
      "metadata": {
        "colab": {
          "base_uri": "https://localhost:8080/"
        },
        "id": "zAzUyX8Lh3D0",
        "outputId": "66140eef-3ad7-429a-d91f-3d4833db329c"
      },
      "execution_count": 26,
      "outputs": [
        {
          "output_type": "execute_result",
          "data": {
            "text/plain": [
              "0"
            ]
          },
          "metadata": {},
          "execution_count": 26
        }
      ]
    },
    {
      "cell_type": "code",
      "source": [
        "len(episode_descriptions)"
      ],
      "metadata": {
        "colab": {
          "base_uri": "https://localhost:8080/"
        },
        "id": "EDZvMcAZh2tJ",
        "outputId": "2cbfea97-7666-488a-8922-68413f943ac7"
      },
      "execution_count": 27,
      "outputs": [
        {
          "output_type": "execute_result",
          "data": {
            "text/plain": [
              "0"
            ]
          },
          "metadata": {},
          "execution_count": 27
        }
      ]
    },
    {
      "cell_type": "code",
      "source": [
        "len(episode_urls)"
      ],
      "metadata": {
        "colab": {
          "base_uri": "https://localhost:8080/"
        },
        "id": "pkJflQ0LiBnH",
        "outputId": "8a04bf7f-1c87-4927-9118-7021109606b5"
      },
      "execution_count": 28,
      "outputs": [
        {
          "output_type": "execute_result",
          "data": {
            "text/plain": [
              "22"
            ]
          },
          "metadata": {},
          "execution_count": 28
        }
      ]
    },
    {
      "cell_type": "code",
      "source": [
        "len(episode_apple_urls)"
      ],
      "metadata": {
        "colab": {
          "base_uri": "https://localhost:8080/"
        },
        "id": "nuppR7L9iBY3",
        "outputId": "b4e18332-2d6e-43f3-ec91-b538332e6466"
      },
      "execution_count": 29,
      "outputs": [
        {
          "output_type": "execute_result",
          "data": {
            "text/plain": [
              "0"
            ]
          },
          "metadata": {},
          "execution_count": 29
        }
      ]
    },
    {
      "cell_type": "code",
      "source": [
        "formatted_episodes = create_episode_info(episode_titles, episode_descriptions, episode_urls, episode_apple_urls)"
      ],
      "metadata": {
        "id": "uFuxguKrsDgL"
      },
      "execution_count": 30,
      "outputs": []
    },
    {
      "cell_type": "code",
      "source": [
        "formatted_episodes"
      ],
      "metadata": {
        "id": "ff_jne_3sM9O",
        "colab": {
          "base_uri": "https://localhost:8080/"
        },
        "outputId": "ce5a695e-b47b-47ca-9847-5080f110a6c6"
      },
      "execution_count": 31,
      "outputs": [
        {
          "output_type": "execute_result",
          "data": {
            "text/plain": [
              "[]"
            ]
          },
          "metadata": {},
          "execution_count": 31
        }
      ]
    },
    {
      "cell_type": "markdown",
      "source": [
        "# Format into HTML for WEBSITE"
      ],
      "metadata": {
        "id": "mKbemykfjd85"
      }
    },
    {
      "cell_type": "code",
      "source": [
        "for i in range(len(episode_titles)):\n",
        "        print(\"<strong>Episode\", len(episode_titles) - i, \":</strong><br>\")\n",
        "        print(\"<strong>\" + episode_titles[i] + \"</strong><br>\")\n",
        "        print(\"<br>\" + episode_descriptions[i] + \"<br>\")\n",
        "        print(\"<br><strong>Apple:</strong><br><a href='\" + episode_apple_urls[i] + \"'>\" + episode_apple_urls[i] + \"</a><br>\")\n",
        "        print(\"<br><strong>Spotify:</strong><br><a href='\" + episode_urls[i] + \"'>\" + episode_urls[i] + \"</a><br>\")\n",
        "        print(\"<br><br>\")"
      ],
      "metadata": {
        "colab": {
          "base_uri": "https://localhost:8080/"
        },
        "id": "c-N-7K9UurdL",
        "outputId": "053c197e-ba59-487a-cf2e-d45a747f2929"
      },
      "execution_count": 47,
      "outputs": [
        {
          "output_type": "stream",
          "name": "stdout",
          "text": [
            "<strong>Episode 22 :</strong><br>\n",
            "<strong>TMGP Ep 22 with Injury Coach, Chiropractor and Powerlifter Dr J’aime Goguen-Locke</strong><br>\n",
            "<br>Dr. J'aime Goguen is a dedicated chiropractor and injury coach with over 18 years of experience helping individuals recover from musculoskeletal injuries. She earned her Doctor of Chiropractic degree from Parker University and takes a holistic approach to treatment, incorporating techniques such as deep tissue myofascial release, active rehabilitation, and nutritional guidance to support her patients' recovery. As an injury coach, specializing in powerlifting injury management and prevention, Dr. J'aime emphasizes preventative care and works collaboratively with other healthcare professionals to provide comprehensive, tailored care for her patients. She is committed to patient education and empowerment, setting her apart as a leader in the field of chiropractic care. In addition to her work as a chiropractor, Dr. J'aime is an accomplished powerlifter. Dr. J'aime’s dedication to the sport of powerlifting and her work as the head clinician with Kodiak Barbell demonstrates her passion for health, fitness, and helping others achieve their goals. Join Dr. J'aime Goguen in this episode of TMGP as she shares insights into her practice, discusses common misconceptions about health care, and offers valuable tips for maintaining a healthy lifestyle. Her unique perspective as both a chiropractor, injury consultant and an elite powerlifter will provide valuable insights for anyone looking to optimize their health and performance. In today’s episode, we can look forward to insights from Dr J’aime related to Injury consulting, rehabilitation, healthcare systems, injury prevention the body being a master of compensation, squat technique, thoughts on Squat University including one's back ability, the infamous dead pig study, fixed stance for squat, ATG, weird exercises, Filming training benefits - physconeuromuscular theory etc, managing pain through exercise not rest , the importance of obliques training, full extension sit ups, and more!<br>\n",
            "<br><strong>Apple:</strong><br><a href='https://podcasts.apple.com/za/podcast/tmgp-ep-22-with-injury-coach-chiropractor-and/id1717906577?i=1000667179540'>https://podcasts.apple.com/za/podcast/tmgp-ep-22-with-injury-coach-chiropractor-and/id1717906577?i=1000667179540</a><br>\n",
            "<br><strong>Spotify:</strong><br><a href='https://open.spotify.com/episode/6tPwmGJ4WKh04U82hCtGM0'>https://open.spotify.com/episode/6tPwmGJ4WKh04U82hCtGM0</a><br>\n",
            "<br><br>\n",
            "<strong>Episode 21 :</strong><br>\n",
            "<strong>TMGP Ep 21 with Muscle Genius & National Powerlifter Michael Cowley</strong><br>\n",
            "<br>Michael Cowley is a postgraduate student at Stellenbosch University pursuing a master's degree in myology (or muscle science). His research focuses on the effects of different grades of unilateral eccentric exercise on delayed onset muscle soreness and satellite cell activation status. As an accomplished national-level powerlifter, Michael brings a unique perspective to the study of muscle growth and regeneration. He is part of the Muscle Research Group at Stellenbosch University, which conducts internationally competitive research on the cellular and molecular aspects of muscle regeneration after injury. Michael also just had a new superb deadlift PR (personal record) achieved last month. In today’s episode, we can look forward to insights from Dr Moe related to How muscles grow How muscles get injured How muscles recover from injury Stem Cells Contralateral training and biomarkers Ice baths Sauna Powerlifting Powerbuilding Muscles Recovery Mind muscle connection And more!<br>\n",
            "<br><strong>Apple:</strong><br><a href='https://podcasts.apple.com/za/podcast/tmgp-ep-21-with-muscle-genius-national-powerlifter/id1717906577?i=1000665440344'>https://podcasts.apple.com/za/podcast/tmgp-ep-21-with-muscle-genius-national-powerlifter/id1717906577?i=1000665440344</a><br>\n",
            "<br><strong>Spotify:</strong><br><a href='https://open.spotify.com/episode/6G77vKu5HMVjnxmNYWTpgm'>https://open.spotify.com/episode/6G77vKu5HMVjnxmNYWTpgm</a><br>\n",
            "<br><br>\n",
            "<strong>Episode 20 :</strong><br>\n",
            "<strong>TMGP Ep 20 with Myology genius & National Powerlifter Michael Cowley</strong><br>\n",
            "<br>Michael Cowley is a postgraduate student at Stellenbosch University pursuing a master's degree in myology (or muscle science). His research focuses on the effects of different grades of unilateral eccentric exercise on delayed onset muscle soreness and satellite cell activation status. As an accomplished national-level powerlifter, Michael brings a unique perspective to the study of muscle growth and regeneration. He is part of the Muscle Research Group at Stellenbosch, which conducts internationally competitive research on the cellular and molecular aspects of muscle regeneration after injury. Michael also just had a new superb deadlift PR (personal record) achieved last month. A whopping 300kg deadlift, so here is a person who clearly is utilizing their research into practice! In today’s episode, we can look forward to insights from Michae related to Myology 101 Muscle biology How muscles grow Ingredients for growth Protein Creatine Muscles, Stem cells, and more!<br>\n",
            "<br><strong>Apple:</strong><br><a href='https://podcasts.apple.com/za/podcast/tmgp-ep-20-with-myology-genius-national-powerlifter/id1717906577?i=1000664068622'>https://podcasts.apple.com/za/podcast/tmgp-ep-20-with-myology-genius-national-powerlifter/id1717906577?i=1000664068622</a><br>\n",
            "<br><strong>Spotify:</strong><br><a href='https://open.spotify.com/episode/5WY6g608AjhfF8AqQatxLb'>https://open.spotify.com/episode/5WY6g608AjhfF8AqQatxLb</a><br>\n",
            "<br><br>\n",
            "<strong>Episode 19 :</strong><br>\n",
            "<strong>TMGP Ep 19 with Male Hormone Expert Dr Moeller part 2</strong><br>\n",
            "<br>Dr Michael Moeller is a leading naturopathic doctor and hormone specialist who has dedicated his career to helping men optimize their health and age gracefully. After receiving his bachelor's degree in pre-medical sciences from Southern Illinois University Carbondale in 2013, he went on to earn his doctorate in naturopathic medicine from Bastyr University California in 2017. The majority of Dr Moeller's clinical practice focuses on testosterone optimization therapy, intravenous nutrient therapy, speciality lab testing, and regenerative injection therapies. In today’s episode, we can look forward to insights from Dr Moe related to Peptides like BPC-157, CJC-1295, creatine, semaglutide; Big pharma and its dark side; Alcohol; The importance of Educating people and allowing them to make informed decisions; TRT; effects of low Testosterone; growth hormone; benefits of healthy testosterone levels; muscle accumulation and its benefits for longevity and health.<br>\n",
            "<br><strong>Apple:</strong><br><a href='https://podcasts.apple.com/za/podcast/tmgp-ep-19-with-male-hormone-expert-dr-moeller-part-2/id1717906577?i=1000662674954'>https://podcasts.apple.com/za/podcast/tmgp-ep-19-with-male-hormone-expert-dr-moeller-part-2/id1717906577?i=1000662674954</a><br>\n",
            "<br><strong>Spotify:</strong><br><a href='https://open.spotify.com/episode/2rUoYlIkv1SmDSWpZLhCWI'>https://open.spotify.com/episode/2rUoYlIkv1SmDSWpZLhCWI</a><br>\n",
            "<br><br>\n",
            "<strong>Episode 18 :</strong><br>\n",
            "<strong>TMGP Ep 18 with Male Hormone Expert Dr Moeller</strong><br>\n",
            "<br>Dr Moeller, known as Dr Moe, is a leading naturopathic doctor and hormone specialist who has dedicated his career to helping men optimize their health and age gracefully. After receiving his bachelor's degree in pre-medical sciences from Southern Illinois University Carbondale in 2013, he went on to earn his doctorate in naturopathic medicine from Bastyr University California in 2017. The majority of Dr Moeller's clinical practice focuses on testosterone optimization therapy, intravenous nutrient therapy, speciality lab testing, and regenerative injection therapies like prolotherapy and platelet-rich plasma (PRP). He is passionate about using natural, evidence-based approaches to help men address issues like low libido, erectile dysfunction, muscle loss, and cognitive decline. You can look forward to insights on TRT, supplementation, muscle growth tips, the failing and dishonest medical system in the US, and much more!<br>\n",
            "<br><strong>Apple:</strong><br><a href='https://podcasts.apple.com/za/podcast/tmgp-ep-18-with-male-hormone-expert-dr-moeller/id1717906577?i=1000661177824'>https://podcasts.apple.com/za/podcast/tmgp-ep-18-with-male-hormone-expert-dr-moeller/id1717906577?i=1000661177824</a><br>\n",
            "<br><strong>Spotify:</strong><br><a href='https://open.spotify.com/episode/4gAbW6QEJsltCvUsfd3NdW'>https://open.spotify.com/episode/4gAbW6QEJsltCvUsfd3NdW</a><br>\n",
            "<br><br>\n",
            "<strong>Episode 17 :</strong><br>\n",
            "<strong>TMGP Ep 17 with coach, educator, and Modern Meathead Ben Yanes</strong><br>\n",
            "<br>Ben Yanes, known as The Modern Meathead, is a prominent figure in the fitness and lifting community. He hosts the popular Modern Meathead Experience podcast, sharing his insights and expertise on various topics related to muscle growth and overall well-being. With a strong online presence on platforms like YouTube and Instagram, Ben has built a significant following and is frequently featured as a guest on other popular fitness podcasts, including the Key Nutrition Podcast and now The Muscle Growth Podcast. Ben has an excellent grasp on often overlooked key aspects of lifting and uses science and anatomy to create intelligent courses and communities for people who love to lift. In today’s episode, we can look forward to insights from Ben on Anchoring and anchoring principles, fundamentals, common fitness myths, fear-mongering in fitness, biomechanics, injury prevention, debunking “functional training”, improving exercise selection and exercise positioning and first principles.<br>\n",
            "<br><strong>Apple:</strong><br><a href='https://podcasts.apple.com/za/podcast/tmgp-ep-17-with-coach-educator-and-modern-meathead-ben-yanes/id1717906577?i=1000659621391'>https://podcasts.apple.com/za/podcast/tmgp-ep-17-with-coach-educator-and-modern-meathead-ben-yanes/id1717906577?i=1000659621391</a><br>\n",
            "<br><strong>Spotify:</strong><br><a href='https://open.spotify.com/episode/7ndsxdboK4dxWs5BvUFp4P'>https://open.spotify.com/episode/7ndsxdboK4dxWs5BvUFp4P</a><br>\n",
            "<br><br>\n",
            "<strong>Episode 16 :</strong><br>\n",
            "<strong>TMGP Ep 16 with Orthopedic Surgeon and Researcher Dr Vonda Wright</strong><br>\n",
            "<br>Dr Vonda Wright is a double-boarded, fellowship-trained orthopaedic surgeon and internationally recognized authority on active ageing and mobility. Dr. Wright’s practice focuses on minimally invasive surgery for hip preservation, shoulder and knee reconstruction, cartilage restoration, orthobiologics, and the latest in injury prevention and performance optimization. Dr Wright is the founding director of the Performance and Research Initiative for Masters Athletes (PRIMA), and her pioneering research in mobility, and musculoskeletal ageing is changing the way we view and treat the ageing process. In today’s episode, we can look forward to insights from Dr Wright related to musculoskeletal health, how we can age better, life expectancy vs health expectancy, vitality in older age groups, the importance of lifting heavy weights, how to flatten your glucose curve and reduce the severity of sugar spikes.<br>\n",
            "<br><strong>Apple:</strong><br><a href='https://podcasts.apple.com/za/podcast/tmgp-ep-16-with-orthopedic-surgeon-and-researcher-dr/id1717906577?i=1000658078358'>https://podcasts.apple.com/za/podcast/tmgp-ep-16-with-orthopedic-surgeon-and-researcher-dr/id1717906577?i=1000658078358</a><br>\n",
            "<br><strong>Spotify:</strong><br><a href='https://open.spotify.com/episode/72yX4xayGrxXaIQv8NgQ3S'>https://open.spotify.com/episode/72yX4xayGrxXaIQv8NgQ3S</a><br>\n",
            "<br><br>\n",
            "<strong>Episode 15 :</strong><br>\n",
            "<strong>TMGP Ep 15 with Researcher, Lecturer, and Fitness Buff Max Coleman p2</strong><br>\n",
            "<br>Max Coleman, a Lehman College graduate and lecturer, is a passionate researcher who delves into how training variables affect muscle hypertrophy. His love for science, muscles, and cooking is evident in his work, making him a valuable scientific advisor @builtwithscience. Max Coleman's research at Lehman College is not just about understanding muscle growth but also about optimizing it through practical strategies. His work explores the mechanisms of muscle hypertrophy, the impact of different training variables, and the role of nutrition. By focusing on topics such as periodization, training volume, and recovery, Coleman's findings provide actionable insights for individuals, athletes, and fitness enthusiasts striving to achieve their muscle growth goals. In today’s episode, we can expect insights from Max related to his research studies and vast knowledge of using science to drive muscle hypertrophy gains.<br>\n",
            "<br><strong>Apple:</strong><br><a href='https://podcasts.apple.com/za/podcast/tmgp-ep-15-with-researcher-lecturer-and-fitness-buff/id1717906577?i=1000656556734'>https://podcasts.apple.com/za/podcast/tmgp-ep-15-with-researcher-lecturer-and-fitness-buff/id1717906577?i=1000656556734</a><br>\n",
            "<br><strong>Spotify:</strong><br><a href='https://open.spotify.com/episode/6oCz7AqlQDHu4ZWrn21kC3'>https://open.spotify.com/episode/6oCz7AqlQDHu4ZWrn21kC3</a><br>\n",
            "<br><br>\n",
            "<strong>Episode 14 :</strong><br>\n",
            "<strong>TMGP Ep 14 with Researcher, Lecturer, and Fitness Buff Max Coleman</strong><br>\n",
            "<br>Max Coleman, a Lehman College graduate and lecturer, is a passionate researcher who delves into how training variables affect muscle hypertrophy. His love for science, muscles, and cooking is evident in his work, making him a valuable scientific advisor @builtwithscience. Max Coleman's research at Lehman College is not just about understanding muscle growth but also about optimizing it through practical strategies. His work explores the mechanisms of muscle hypertrophy, the impact of different training variables, and the role of nutrition. By focusing on topics such as periodization, training volume, and recovery, Coleman's findings provide actionable insights for individuals, athletes, and fitness enthusiasts striving to achieve their muscle growth goals. In today’s episode, we can expect insights from Max related to his research studies and vast knowledge of using science to drive muscle hypertrophy gains.<br>\n",
            "<br><strong>Apple:</strong><br><a href='https://podcasts.apple.com/za/podcast/tmgp-ep-14-with-researcher-lecturer-and-fitness-buff/id1717906577?i=1000655101272'>https://podcasts.apple.com/za/podcast/tmgp-ep-14-with-researcher-lecturer-and-fitness-buff/id1717906577?i=1000655101272</a><br>\n",
            "<br><strong>Spotify:</strong><br><a href='https://open.spotify.com/episode/0sWyuKGDPXiI64ycdKO7ls'>https://open.spotify.com/episode/0sWyuKGDPXiI64ycdKO7ls</a><br>\n",
            "<br><br>\n",
            "<strong>Episode 13 :</strong><br>\n",
            "<strong>TMGP Ep 13 with gymbro Roscoe</strong><br>\n",
            "<br>This white male podcast host humorously introduces himself as just another guy with a podcast. He holds degrees in Mathematical Science and Computer Science from Stellenbosch University and the University of Cape Town. Beyond academics, he is a skilled tennis and squash player, representing his province multiple times and winning the South African National Championship Racketlon tournament in various age categories. After school, he prioritized tennis, academics, and fitness. He is a software engineer passionate about the gym and helping others chase their hypertrophy goals through science-based methods. He aims to enable people to become bigger, stronger, and better versions of themselves. In this episode, you can look forward to a deep dive into optimal nutrition for muscle growth based on scientific literature, as well as a free workout program and seeing his 5-year goals which include a 300kg deadlift!<br>\n",
            "<br><strong>Apple:</strong><br><a href='https://podcasts.apple.com/za/podcast/tmgp-ep-13-with-gymbro-roscoe/id1717906577?i=1000653580457'>https://podcasts.apple.com/za/podcast/tmgp-ep-13-with-gymbro-roscoe/id1717906577?i=1000653580457</a><br>\n",
            "<br><strong>Spotify:</strong><br><a href='https://open.spotify.com/episode/58CgSrPor1Uh6mMu8z7WaI'>https://open.spotify.com/episode/58CgSrPor1Uh6mMu8z7WaI</a><br>\n",
            "<br><br>\n",
            "<strong>Episode 12 :</strong><br>\n",
            "<strong>TMGP Ep 12 with coach, PhD student, and researcher Jake Remmert part 2</strong><br>\n",
            "<br>Jake has a B.S. (honours) in exercise science and is a Certified Strength and Conditioning Specialist. He is currently a researcher, lecturer, and PhD candidate at Florida Atlantic University, where he is working in the Muscle Physiology Laboratory. Here, his research focuses on optimizing program design to maximize hypertrophy and strength. Jake is also a coach with Data-Driven Strength, where he provides educational services and 1-on-1 coaching for clients with goals ranging from elite powerlifting performance and competitive bodybuilding to recreational strength, muscle growth, and fat loss. He is a competitor himself as well, with nearly 10 years of training experience and multiple competitions under his belt. In today’s episode, we can look forward to insights from Jake related to his projects in academia and using research studies and data-driven techniques to drive strength and hypertrophy gains.<br>\n",
            "<br><strong>Apple:</strong><br><a href='https://podcasts.apple.com/za/podcast/tmgp-ep-12-with-coach-phd-student-and-researcher/id1717906577?i=1000652127219'>https://podcasts.apple.com/za/podcast/tmgp-ep-12-with-coach-phd-student-and-researcher/id1717906577?i=1000652127219</a><br>\n",
            "<br><strong>Spotify:</strong><br><a href='https://open.spotify.com/episode/4gzfcWJ0lfGYcDwCKf0wol'>https://open.spotify.com/episode/4gzfcWJ0lfGYcDwCKf0wol</a><br>\n",
            "<br><br>\n",
            "<strong>Episode 11 :</strong><br>\n",
            "<strong>TMGP Ep 11 with coach Jake Remmert</strong><br>\n",
            "<br>Jake has a B.S. (honours) in exercise science and is a Certified Strength and Conditioning Specialist. He is currently a researcher, lecturer, and PhD candidate at Florida Atlantic University, where he is working in the Muscle Physiology Laboratory. Here, his research focuses on optimizing program design to maximize hypertrophy and strength. Jake is also a coach with Data Driven Strength, where he provides educational services and 1-on-1 coaching for clients with goals ranging from elite powerlifting performance and competitive bodybuilding to recreational strength, muscle growth, and fat loss. He is a competitor himself as well, with nearly 10 years of training experience and multiple competitions under his belt. In today’s episode, we can look forward to insights from Jake related to programming and using data-driven techniques to drive strength and hypertrophy gains.<br>\n",
            "<br><strong>Apple:</strong><br><a href='https://podcasts.apple.com/za/podcast/tmgp-ep-11-with-coach-jake-remmert/id1717906577?i=1000650693182'>https://podcasts.apple.com/za/podcast/tmgp-ep-11-with-coach-jake-remmert/id1717906577?i=1000650693182</a><br>\n",
            "<br><strong>Spotify:</strong><br><a href='https://open.spotify.com/episode/5VhoEetiuhb8C5khvN5jJz'>https://open.spotify.com/episode/5VhoEetiuhb8C5khvN5jJz</a><br>\n",
            "<br><br>\n",
            "<strong>Episode 10 :</strong><br>\n",
            "<strong>TMGP Ep 10 with Dr Pak</strong><br>\n",
            "<br>Pak did his PhD in Sports Science at Solent University (UK) on the topic of “the minimum effective training dose for strength in powerlifters.” His research focuses on muscle strength, hypertrophy, and strength sport performance. Pak has worked for over 5 years with physique athletes, powerlifters, and recreationally active individuals looking to get stronger and improve their body composition. He believes that a genuinely evidence-based approach to training and nutrition should be guided by the current available scientific evidence as well as professional experience, while factoring in individual preferences and idiosyncrasies. As a coach, his aim is to create a collaborative atmosphere, based on the consolidation of his experience and the client's feedback, which in turn will generate an adaptive plan of action that best suits the client's goals.<br>\n",
            "<br><strong>Apple:</strong><br><a href='https://podcasts.apple.com/za/podcast/tmgp-ep-10-with-dr-pak/id1717906577?i=1000649243267'>https://podcasts.apple.com/za/podcast/tmgp-ep-10-with-dr-pak/id1717906577?i=1000649243267</a><br>\n",
            "<br><strong>Spotify:</strong><br><a href='https://open.spotify.com/episode/07Nr4mEGSerj9RMMjodO7C'>https://open.spotify.com/episode/07Nr4mEGSerj9RMMjodO7C</a><br>\n",
            "<br><br>\n",
            "<strong>Episode 9 :</strong><br>\n",
            "<strong>TMGP Ep 09 with physio, powerlifter, and coach Jared Maynard</strong><br>\n",
            "<br>Despite his extensive background in healthcare, Jared acknowledges its shortcomings, especially in addressing injuries. His personal encounter with health struggles took a significant turn when he fell critically ill, spending five weeks in the ICU due to HLH disease. Enduring a 40-pound weight loss, predominantly lean tissue, Jared attributes his survival to the initial muscle tissue he had built over the years. Now weighing over 180 pounds, a remarkable recovery from his ICU weight of 150 pounds, Jared underscores the importance of muscle for longevity and for overall well-being. His story embodies the essence of bouncing back, with a focus on strength and muscle memory, helping to bring him back to his original 193 pounds from his time in the ICU and his current resilient state.<br>\n",
            "<br><strong>Apple:</strong><br><a href='https://podcasts.apple.com/za/podcast/tmgp-ep-09-with-physio-powerlifter-and-coach-jared-maynard/id1717906577?i=1000647519254'>https://podcasts.apple.com/za/podcast/tmgp-ep-09-with-physio-powerlifter-and-coach-jared-maynard/id1717906577?i=1000647519254</a><br>\n",
            "<br><strong>Spotify:</strong><br><a href='https://open.spotify.com/episode/7LDBCnUkObt3rr5ykEgyqP'>https://open.spotify.com/episode/7LDBCnUkObt3rr5ykEgyqP</a><br>\n",
            "<br><br>\n",
            "<strong>Episode 8 :</strong><br>\n",
            "<strong>TMGP Ep 08 with sleep expert and biohacker Riley Jarvis part 2</strong><br>\n",
            "<br>Riley is a sleep consultant who has helped high performers achieve more out of their personal and work lives using cutting-edge scientific lab testing, strategies, and techniques. To hear more about Riley and to get his first portion of this 2-part episode, please feel free to check out TMGP episode 7 for more sleep-improving-related value. In today's episode, we can look forward to sleeping tips, achieving sleep nirvana, optimizing sleep and recovery, improving your sleeping environment, waking up rituals, circadian rhythms, advanced sleeping techniques and hacks, falling asleep faster, sleep supplements, sleep tracking, and more!<br>\n",
            "<br><strong>Apple:</strong><br><a href='https://podcasts.apple.com/za/podcast/tmgp-ep-08-with-sleep-expert-and-biohacker-riley/id1717906577?i=1000645440546'>https://podcasts.apple.com/za/podcast/tmgp-ep-08-with-sleep-expert-and-biohacker-riley/id1717906577?i=1000645440546</a><br>\n",
            "<br><strong>Spotify:</strong><br><a href='https://open.spotify.com/episode/0D6qjm9C5yCnZh1vhnxQH3'>https://open.spotify.com/episode/0D6qjm9C5yCnZh1vhnxQH3</a><br>\n",
            "<br><br>\n",
            "<strong>Episode 7 :</strong><br>\n",
            "<strong>TMGP Ep 07 with sleep expert and biohacker Riley Jarvis</strong><br>\n",
            "<br>Riley is a sleep consultant who has helped high performers achieve more out of their personal and work life using cutting-edge scientific lab testing, strategies, and techniques. With only so many waking hours in the day, the quality of hours sleeping is what can make the difference between peak performance and functioning at a fraction of your true potential. Currently residing in Vancouver, Canada, Riley spends most of his time in the outdoors hiking, snowboarding, and finding the next exciting adventure. Inside the “sleep lab”, he enjoys reading the latest sleep intel, collaborating with other thought leaders, and helping clients get life changing results. Riley is also a qualified Health Coach for Peak Performance & Flow and a qualified sleep consultant coach at TheSleepConsultant.Com In today's episode, we can look forward to advice about supplements for energy, focus, sleeping aids, general health and hormone supplements, discussions about health, genetics, and biohacking.<br>\n",
            "<br><strong>Apple:</strong><br><a href='https://podcasts.apple.com/za/podcast/tmgp-ep-07-with-sleep-expert-and-biohacker-riley-jarvis/id1717906577?i=1000643863544'>https://podcasts.apple.com/za/podcast/tmgp-ep-07-with-sleep-expert-and-biohacker-riley-jarvis/id1717906577?i=1000643863544</a><br>\n",
            "<br><strong>Spotify:</strong><br><a href='https://open.spotify.com/episode/0iaYnuxhebYCiuEbESB7ng'>https://open.spotify.com/episode/0iaYnuxhebYCiuEbESB7ng</a><br>\n",
            "<br><br>\n",
            "<strong>Episode 6 :</strong><br>\n",
            "<strong>TMGP Ep 06 with world record holder and Ninja Warrior Ginny Maccoll</strong><br>\n",
            "<br>Ginny is an actress, dancer, and competitive athlete in both Ninja Warrior and swimming. Ginny rekindled her acting career in retirement in and also began strength training, inspired by her daughter, Jessie Graff, who has gone farther than any female on American Ninja Warrior. At 63 years old, Ginny did her very first pull up and later competed on American Ninja Warrior, Season 9, 10, and 15, making history at age 71 as the oldest person to complete an obstacle. She was named the oldest competitive female ninja athlete in the 2024 Guinness World Record Book! Ginny continues to compete regionally in ninja competitions and local state and national swim meets. In today's episode, we can look forward to advice from Jessie Graff, discussions about it never being too late or too old to start your fitness journey, slow, but continuous progress, the importance of pull-ups, Ninja Warrior, women lifting weights, discipline and commitment, strength being ageless, and movement being key.<br>\n",
            "<br><strong>Apple:</strong><br><a href='https://podcasts.apple.com/za/podcast/tmgp-ep-06-with-world-record-holder-and-ninja/id1717906577?i=1000642084408'>https://podcasts.apple.com/za/podcast/tmgp-ep-06-with-world-record-holder-and-ninja/id1717906577?i=1000642084408</a><br>\n",
            "<br><strong>Spotify:</strong><br><a href='https://open.spotify.com/episode/5MEqZU122WFlOH1fJabtVQ'>https://open.spotify.com/episode/5MEqZU122WFlOH1fJabtVQ</a><br>\n",
            "<br><br>\n",
            "<strong>Episode 5 :</strong><br>\n",
            "<strong>TMGP Ep 05 with coach Leo Kruger</strong><br>\n",
            "<br>Beyond the world of coaching, Leo leads a double life as a business intelligence analyst, where he specializes in creating and analyzing data models. It's a job that keeps him on his toes, but Leo’s true passion lies in the realm of fitness and muscle growth. Currently, Leo has the privilege of working with a diverse group of 55 clients, ranging from those embracing the lifestyle to competitive athletes, with a notable 65% being phenomenal women. The proof of their collective hard work is reflected in 2023's impressive placings: 9 first places, 4 second places, and 7 third places. It's a testament to the dedication and commitment of the incredible individuals that he has the honour of coaching. As a programming and hypertrophy expert, Leo brings a wealth of knowledge to the table. Tune in to learn from coach Leo.<br>\n",
            "<br><strong>Apple:</strong><br><a href='https://podcasts.apple.com/za/podcast/tmgp-ep-05-with-coach-leo-kruger/id1717906577?i=1000640585450'>https://podcasts.apple.com/za/podcast/tmgp-ep-05-with-coach-leo-kruger/id1717906577?i=1000640585450</a><br>\n",
            "<br><strong>Spotify:</strong><br><a href='https://open.spotify.com/episode/4yzeLGkEA1dRNc2R66nAQk'>https://open.spotify.com/episode/4yzeLGkEA1dRNc2R66nAQk</a><br>\n",
            "<br><br>\n",
            "<strong>Episode 4 :</strong><br>\n",
            "<strong>TMGP Ep 04 with bench press (E) world record holder: Ashleigh Hoeta</strong><br>\n",
            "<br>Ashleigh is multitalented: a mom of 2, a student studying to become a teacher, an ex-gymnast, pole dancer, New Zealand’s female arm wrestling champion, and now the world’s strongest female equipped bench presser. She smashed the world record for female-equipped bench press on her second attempt at her last powerlifting meet and then smashed her own world record on her third attempt hitting a whopping 700lbs or 317.5kg!<br>\n",
            "<br><strong>Apple:</strong><br><a href='https://podcasts.apple.com/za/podcast/tmgp-ep-04-with-bench-press-e-world-record-holder/id1717906577?i=1000639379144'>https://podcasts.apple.com/za/podcast/tmgp-ep-04-with-bench-press-e-world-record-holder/id1717906577?i=1000639379144</a><br>\n",
            "<br><strong>Spotify:</strong><br><a href='https://open.spotify.com/episode/3HGFNNgFmMZepAPMTm0YTT'>https://open.spotify.com/episode/3HGFNNgFmMZepAPMTm0YTT</a><br>\n",
            "<br><br>\n",
            "<strong>Episode 3 :</strong><br>\n",
            "<strong>TMGP Ep 03 with coach Morgan Agran</strong><br>\n",
            "<br>Morgan is an online fitness coach who helps men and women between the ages of 30-50 who work a desk job to take ownership of their health and fitness goals. She is a college rugby player and an avid gym goer who has managed to amass an astonishing 30lbs of muscle in 4 years, while also losing fat and getting stronger! She can deadlift 180kg and knows how to tackle so she is not someone that you want to mess with! Tune in to listen to her tips on how to effectively recomp your body!<br>\n",
            "<br><strong>Apple:</strong><br><a href='https://podcasts.apple.com/za/podcast/tmgp-ep-03-with-coach-morgan-agran/id1717906577?i=1000638537543'>https://podcasts.apple.com/za/podcast/tmgp-ep-03-with-coach-morgan-agran/id1717906577?i=1000638537543</a><br>\n",
            "<br><strong>Spotify:</strong><br><a href='https://open.spotify.com/episode/6he0VyS57abcOM5zvXlyeu'>https://open.spotify.com/episode/6he0VyS57abcOM5zvXlyeu</a><br>\n",
            "<br><br>\n",
            "<strong>Episode 2 :</strong><br>\n",
            "<strong>TMGP Ep 02 with Dr Milo Wolf</strong><br>\n",
            "<br>Dr Wolf has a Ph.D. specializing in muscle hypertrophy and strength research. For over four years, Milo has been a guiding force, helping individuals achieve their goals of gaining muscle, increasing strength, and achieving leanness. Drawing from his extensive background in both bodybuilding and powerlifting, Milo brings a wealth of knowledge and practical experience to his coaching, having not only trained but also competed in these disciplines. Now is your chance to hear his views on evidence-based methodology to maximize your muscle growth!<br>\n",
            "<br><strong>Apple:</strong><br><a href='https://podcasts.apple.com/za/podcast/tmgp-ep-02-with-dr-milo-wolf/id1717906577?i=1000637022738'>https://podcasts.apple.com/za/podcast/tmgp-ep-02-with-dr-milo-wolf/id1717906577?i=1000637022738</a><br>\n",
            "<br><strong>Spotify:</strong><br><a href='https://open.spotify.com/episode/4QipFMlqT29Y3ODBIXAZpS'>https://open.spotify.com/episode/4QipFMlqT29Y3ODBIXAZpS</a><br>\n",
            "<br><br>\n",
            "<strong>Episode 1 :</strong><br>\n",
            "<strong>TMGP Ep 01 with Coach Benjamin Yeezus</strong><br>\n",
            "<br>Coach Benjamin is a professional lifestyle coach, bodybuilder, and a level 5 certified nutritionist from Glasgow in the United Kingdom. Benjamin overcame bullying in his younger years to become a top international bodybuilder and fitness coach. Ben now helps people from all walks of life who share a common goal of being healthy and getting fit, and now you have the opportunity for him to help you too!<br>\n",
            "<br><strong>Apple:</strong><br><a href='https://podcasts.apple.com/za/podcast/tmgp-ep-01-with-coach-benjamin-yeezus/id1717906577?i=1000635781190'>https://podcasts.apple.com/za/podcast/tmgp-ep-01-with-coach-benjamin-yeezus/id1717906577?i=1000635781190</a><br>\n",
            "<br><strong>Spotify:</strong><br><a href='https://open.spotify.com/episode/4ehoF8sNaAx0dQc8SiDngB'>https://open.spotify.com/episode/4ehoF8sNaAx0dQc8SiDngB</a><br>\n",
            "<br><br>\n"
          ]
        }
      ]
    }
  ]
}
